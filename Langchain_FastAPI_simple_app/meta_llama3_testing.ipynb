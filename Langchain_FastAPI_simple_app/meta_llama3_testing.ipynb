{
 "cells": [
  {
   "cell_type": "markdown",
   "metadata": {},
   "source": [
    "#### Meta llama3 using groq"
   ]
  },
  {
   "cell_type": "markdown",
   "metadata": {},
   "source": [
    "##### 1. Install dependencies"
   ]
  },
  {
   "cell_type": "code",
   "execution_count": 1,
   "metadata": {},
   "outputs": [
    {
     "data": {
      "text/plain": [
       "True"
      ]
     },
     "execution_count": 1,
     "metadata": {},
     "output_type": "execute_result"
    }
   ],
   "source": [
    "from groq import Groq\n",
    "import os\n",
    "from dotenv import load_dotenv\n",
    "load_dotenv()"
   ]
  },
  {
   "cell_type": "code",
   "execution_count": 2,
   "metadata": {},
   "outputs": [],
   "source": [
    "os.environ[\"GROQ_API_KEY\"] = os.getenv(\"GROQ_API_KEY\")"
   ]
  },
  {
   "cell_type": "markdown",
   "metadata": {},
   "source": [
    "##### 2. Load the model using groq engine"
   ]
  },
  {
   "cell_type": "code",
   "execution_count": 5,
   "metadata": {},
   "outputs": [],
   "source": [
    "client = Groq()\n",
    "chat_completion = client.chat.completions.create(\n",
    "    messages=[\n",
    "        {\n",
    "            \"role\": \"system\",\n",
    "            \"content\": \"you are a helpful assistant, who answers to the questions.\"\n",
    "        },\n",
    "        {\n",
    "            \"role\": \"user\",\n",
    "            \"content\": \"Give me the best current cricket players both bowlers and batsmen\",\n",
    "        }\n",
    "    ],\n",
    "\n",
    "    model=\"llama-3.3-70b-versatile\",\n",
    "    temperature=0.3,\n",
    "    max_tokens=1024,\n",
    "    top_p=1,\n",
    "    # stop=None,\n",
    "    stream=False,\n",
    ")"
   ]
  },
  {
   "cell_type": "markdown",
   "metadata": {},
   "source": [
    "##### 3. Inference result"
   ]
  },
  {
   "cell_type": "code",
   "execution_count": 6,
   "metadata": {},
   "outputs": [
    {
     "name": "stdout",
     "output_type": "stream",
     "text": [
      "Here's a list of some of the best current cricket players, both bowlers and batsmen, based on their recent performances and rankings:\n",
      "\n",
      "**Top Batsmen:**\n",
      "\n",
      "1. **Babar Azam (Pakistan)**: Regarded as one of the best batsmen in the world, known for his elegant strokeplay and consistency.\n",
      "2. **Virat Kohli (India)**: A highly skilled and aggressive batsman, with a strong record in all formats of the game.\n",
      "3. **Steve Smith (Australia)**: A dominant force in Test cricket, with a unique technique and ability to score big runs.\n",
      "4. **Kane Williamson (New Zealand)**: A technically sound batsman, known for his calm and composed approach to the game.\n",
      "5. **Rohit Sharma (India)**: A destructive opener, with a strong record in limited-overs cricket and a growing reputation in Test cricket.\n",
      "6. **Joe Root (England)**: A highly skilled and experienced batsman, with a strong record in Test cricket and a growing influence in limited-overs cricket.\n",
      "7. **Marnus Labuschagne (Australia)**: A rising star in Australian cricket, known for his aggressive batting style and ability to score big runs.\n",
      "8. **Dimuth Karunaratne (Sri Lanka)**: A technically sound batsman, with a strong record in Test cricket and a growing reputation in limited-overs cricket.\n",
      "\n",
      "**Top Bowlers:**\n",
      "\n",
      "1. **Jasprit Bumrah (India)**: Regarded as one of the best fast bowlers in the world, known for his unique action and ability to take wickets in all conditions.\n",
      "2. **Pat Cummins (Australia)**: A highly skilled and experienced fast bowler, with a strong record in Test cricket and a growing influence in limited-overs cricket.\n",
      "3. **Kagiso Rabada (South Africa)**: A highly skilled and aggressive fast bowler, with a strong record in all formats of the game.\n",
      "4. **Mitchell Starc (Australia)**: A left-arm fast bowler, known for his ability to take wickets and his impressive record in limited-overs cricket.\n",
      "5. **Ravichandran Ashwin (India)**: A highly skilled and experienced spinner, with a strong record in Test cricket and a growing reputation in limited-overs cricket.\n",
      "6. **Nathan Lyon (Australia)**: A highly skilled and experienced off-spinner, with a strong record in Test cricket and a growing influence in limited-overs cricket.\n",
      "7. **Yuzvendra Chahal (India)**: A highly skilled and experienced leg-spinner, with a strong record in limited-overs cricket and a growing reputation in Test cricket.\n",
      "8. **Shaheen Afridi (Pakistan)**: A rising star in Pakistani cricket, known for his ability to take wickets and his impressive record in limited-overs cricket.\n",
      "\n",
      "Note: These rankings are subjective and based on recent performances, but opinions may vary depending on individual perspectives and criteria.\n"
     ]
    }
   ],
   "source": [
    "print(chat_completion.choices[0].message.content)"
   ]
  },
  {
   "cell_type": "markdown",
   "metadata": {},
   "source": [
    "#### Meta Llama3 using Langchain"
   ]
  },
  {
   "cell_type": "markdown",
   "metadata": {},
   "source": [
    "##### 1. Installing necessary libraries"
   ]
  },
  {
   "cell_type": "code",
   "execution_count": 30,
   "metadata": {},
   "outputs": [
    {
     "data": {
      "text/plain": [
       "True"
      ]
     },
     "execution_count": 30,
     "metadata": {},
     "output_type": "execute_result"
    }
   ],
   "source": [
    "import os\n",
    "from dotenv import load_dotenv\n",
    "from langchain_groq import ChatGroq\n",
    "from langchain.prompts import ChatPromptTemplate\n",
    "load_dotenv()"
   ]
  },
  {
   "cell_type": "code",
   "execution_count": 28,
   "metadata": {},
   "outputs": [],
   "source": [
    "os.environ[\"GROQ_API_KEY\"] = os.getenv(\"GROQ_API_KEY\")"
   ]
  },
  {
   "cell_type": "markdown",
   "metadata": {},
   "source": [
    "##### 2. Load the model"
   ]
  },
  {
   "cell_type": "code",
   "execution_count": 29,
   "metadata": {},
   "outputs": [],
   "source": [
    "model_id = \"llama-3.3-70b-versatile\"\n",
    "llm = ChatGroq(\n",
    "    model=model_id,\n",
    "    temperature=0.5,\n",
    "    max_retries=2,\n",
    "    # other params...\n",
    ")"
   ]
  },
  {
   "cell_type": "code",
   "execution_count": 42,
   "metadata": {},
   "outputs": [],
   "source": [
    "prompt_template = ChatPromptTemplate(\n",
    "    messages = \n",
    "    [(\"system\",\"You are a helpful assistant who answers question related to cricket.If question is not related to cricket, just say : Ask related to cricket only.\"),\n",
    "    (\"user\",\"{input_text}\")]\n",
    ")"
   ]
  },
  {
   "cell_type": "code",
   "execution_count": 46,
   "metadata": {},
   "outputs": [],
   "source": [
    "input_text = \"Who is Narendra Modi ?\"\n",
    "input_text = \"Best White ball openers till now.\""
   ]
  },
  {
   "cell_type": "code",
   "execution_count": 47,
   "metadata": {},
   "outputs": [],
   "source": [
    "prompt = prompt_template.invoke(input_text)"
   ]
  },
  {
   "cell_type": "code",
   "execution_count": 49,
   "metadata": {},
   "outputs": [
    {
     "name": "stdout",
     "output_type": "stream",
     "text": [
      "Here are some of the best white-ball openers in cricket till now:\n",
      "\n",
      "1. Rohit Sharma and Shikhar Dhawan (India) - One of the most successful opening pairs in white-ball cricket, they have consistently performed well together.\n",
      "2. Jason Roy and Jonny Bairstow (England) - This English pair has been a dominant force in white-ball cricket, known for their aggressive batting style.\n",
      "3. David Warner and Aaron Finch (Australia) - A highly successful opening pair, they have been instrumental in Australia's success in white-ball cricket.\n",
      "4. Quinton de Kock and Hashim Amla (South Africa) - A dynamic opening pair, they have been a key factor in South Africa's success in white-ball cricket.\n",
      "5. Martin Guptill and Colin Munro (New Zealand) - This Kiwi pair has been a consistent performer in white-ball cricket, known for their aggressive batting style.\n",
      "\n",
      "Some notable individual white-ball openers include:\n",
      "\n",
      "1. Chris Gayle (West Indies) - Known for his explosive batting style, he is one of the greatest white-ball openers of all time.\n",
      "2. Virender Sehwag (India) - A highly destructive opener, he was known for his aggressive batting style and ability to take the game away from the opposition.\n",
      "3. Sanath Jayasuriya (Sri Lanka) - A legendary opener, he was known for his innovative and aggressive batting style, which revolutionized the game.\n",
      "\n",
      "Note: This is not an exhaustive list, and there are many other great white-ball openers who have made significant contributions to the game.\n"
     ]
    }
   ],
   "source": [
    "response = llm.invoke(prompt)\n",
    "print(response.content)"
   ]
  },
  {
   "cell_type": "code",
   "execution_count": null,
   "metadata": {},
   "outputs": [],
   "source": []
  }
 ],
 "metadata": {
  "kernelspec": {
   "display_name": "env_langchain_tutorial",
   "language": "python",
   "name": "python3"
  },
  "language_info": {
   "codemirror_mode": {
    "name": "ipython",
    "version": 3
   },
   "file_extension": ".py",
   "mimetype": "text/x-python",
   "name": "python",
   "nbconvert_exporter": "python",
   "pygments_lexer": "ipython3",
   "version": "3.10.16"
  }
 },
 "nbformat": 4,
 "nbformat_minor": 2
}
