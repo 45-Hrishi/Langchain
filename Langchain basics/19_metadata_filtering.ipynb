{
 "cells": [
  {
   "cell_type": "markdown",
   "metadata": {},
   "source": [
    "#### MeataData Filtering - Self-Query Retriever"
   ]
  },
  {
   "cell_type": "code",
   "execution_count": 1,
   "metadata": {},
   "outputs": [
    {
     "name": "stderr",
     "output_type": "stream",
     "text": [
      "c:\\Users\\admin\\anaconda3\\envs\\env_langchain_tutorial\\lib\\site-packages\\pinecone\\data\\index.py:1: TqdmWarning: IProgress not found. Please update jupyter and ipywidgets. See https://ipywidgets.readthedocs.io/en/stable/user_install.html\n",
      "  from tqdm.autonotebook import tqdm\n"
     ]
    },
    {
     "data": {
      "text/plain": [
       "True"
      ]
     },
     "execution_count": 1,
     "metadata": {},
     "output_type": "execute_result"
    }
   ],
   "source": [
    "from langchain.retrievers import SelfQueryRetriever\n",
    "# from langchain.chains.query_constructor import \n",
    "from langchain.text_splitter import RecursiveCharacterTextSplitter\n",
    "from langchain_groq import ChatGroq\n",
    "from langchain.document_loaders import PyPDFLoader, TextLoader, DirectoryLoader\n",
    "from typing import List\n",
    "import os\n",
    "from langchain.prompts import ChatPromptTemplate\n",
    "from pydantic import BaseModel\n",
    "from pydantic.fields import Field\n",
    "from langchain.output_parsers import StructuredOutputParser\n",
    "from dotenv import load_dotenv\n",
    "import re\n",
    "from collections import defaultdict\n",
    "from pinecone import Pinecone, ServerlessSpec\n",
    "from langchain_pinecone.vectorstores import PineconeVectorStore\n",
    "from langchain_huggingface.embeddings import HuggingFaceEmbeddings\n",
    "load_dotenv()"
   ]
  },
  {
   "cell_type": "code",
   "execution_count": 2,
   "metadata": {},
   "outputs": [],
   "source": [
    "os.environ[\"GROQ_API_KEY\"] = os.getenv(\"GROQ_API_KEY\")\n",
    "os.environ[\"HUGGINGFACEHUB_API_TOKEN\"] = os.getenv(\"HUGGINGFACEHUB_API_TOKEN\")\n",
    "os.environ[\"PINECONE_API_KEY\"] = os.getenv(\"PINECONE_API_KEY\")"
   ]
  },
  {
   "cell_type": "code",
   "execution_count": 3,
   "metadata": {},
   "outputs": [],
   "source": [
    "if os.getcwd() == \"e:\\\\Programming\\\\Projects\\\\LLM\\\\Langchain for everbody\\\\Langchain basics\":\n",
    "    os.chdir(\"e:\\\\Programming\\\\Projects\\\\LLM\\\\Langchain for everbody\")"
   ]
  },
  {
   "cell_type": "code",
   "execution_count": 4,
   "metadata": {},
   "outputs": [],
   "source": [
    "# loader = PyPDFLoader(file_path=\"HR_data/hrtech_HR_code_of_coduct_policy_v1.pdf\")"
   ]
  },
  {
   "cell_type": "code",
   "execution_count": 5,
   "metadata": {},
   "outputs": [],
   "source": [
    "loader = DirectoryLoader(\n",
    "    \"HR_data/\",\n",
    "    glob=\"**/*.pdf\",\n",
    "    loader_cls=PyPDFLoader\n",
    ")"
   ]
  },
  {
   "cell_type": "code",
   "execution_count": 6,
   "metadata": {},
   "outputs": [
    {
     "data": {
      "text/plain": [
       "[Document(metadata={'source': 'HR_data\\\\hrtech_HR_code_of_coduct_policy_v1.pdf', 'page': 0}, page_content='ABC Corp Code of Conduct Policy  \\n**Company Name:** ABC Corp  \\n**Policy Name:** Code of Conduct  \\n**Effective Date:** [DD/MM/YYYY]  \\n**Version:** 1.0  \\n1. Purpose  \\nThe purpose of this Code of Conduct policy is to outline the standards of behavior expected \\nfrom all employees at ABC Corp. We are committed to maintaining a professional, ethical, \\nand respectful work environment. Failure to adhere to these standards may result in \\ndisciplinary action, including termination.  \\n2. Workplace Behavior  \\n2.1 Professional Conduct  \\nEmployees are expected to act professionally, responsibly, and ethically at all times. They \\nshould treat colleagues, clients, and stakeholders with respect and integrity.  \\n2.2 Harassment and Discrimination  \\nABC Corp maintains a zero -tolerance policy towards a ny form of harassment, \\ndiscrimination, or bullying. This includes but is not limited to discrimination based on race, \\ngender, religion, nationality, disability, or sexual orientation.  \\n2.3 Workplace Safety  \\nEmployees are responsible for maintaining a safe an d healthy work environment. All safety \\npolicies and procedures must be followed, and any workplace hazards should be reported \\nimmediately.  \\n3. Ethical Guidelines  \\n3.1 Integrity and Honesty  \\nEmployees must always act with integrity and honesty in their profess ional dealings. Any \\nform of fraud, deceit, or misrepresentation will not be tolerated.  \\n3.2 Confidentiality  \\nEmployees must maintain confidentiality regarding company information, trade secrets, \\nand sensitive data. Unauthorized sharing of confidential inform ation may result in \\ndisciplinary action.  '),\n",
       " Document(metadata={'source': 'HR_data\\\\hrtech_HR_code_of_coduct_policy_v1.pdf', 'page': 1}, page_content='3.3 Conflict of Interest  \\nEmployees must avoid conflicts of interest that could interfere with their professional \\nresponsibilities. Any potential conflicts should be disclosed to management immediately.  \\n4. Use of Com pany Resources  \\nCompany resources, including computers, internet access, phones, and office supplies, \\nshould be used responsibly and for work -related purposes. Misuse of company resources \\nfor personal gain or unethical activities is prohibited.  \\n5. Reporting  Violations  \\nEmployees are encouraged to report any violations of this Code of Conduct. Reports can be \\nmade anonymously through the HR department. Retaliation against employees who report \\nmisconduct will not be tolerated.  \\n6. Disciplinary Actions  \\nAny violati ons of this Code of Conduct will be subject to disciplinary action, including verbal \\nwarnings, written warnings, suspension, or termination, depending on the severity of the \\nviolation.  \\n7. Acknowledgment and Compliance  \\nEmployees must acknowledge that they have read and understood the Code of Conduct. \\nCompliance with this policy is mandatory, and any failure to adhere to these guidelines may \\nresult in disciplinary action.  '),\n",
       " Document(metadata={'source': 'HR_data\\\\hrtech_HR_leaves_2025_policy_v1.pdf', 'page': 0}, page_content='ABC Corp Leave Policy  \\n**Company Name:** ABC Corp  \\n**Policy Name:** Leave Policy  \\n**Effective Date:** [DD/MM/YYYY]  \\n**Version:** 1.0  \\n1. Purpose  \\nThis policy outlines the leave entitlements, procedures, and guidelines for employees at \\nABC Corp. The goal is to ensure that employees take necessary time off while maintaining \\nbusiness efficiency.  \\n2. Types of Leave  \\n2.1 Annual Leave  \\nEmployees are entitled to **20 days of paid annual leave** per year. Unused annual leave \\ncan be carried forward for up to one year. Leav e must be planned in advance and approved \\nby the manager.  \\n2.2 Sick Leave  \\nEmployees can take up to **10 days of paid sick leave** per year. A medical certificate is \\nrequired for sick leave exceeding 2 consecutive days.  \\n2.3 Maternity Leave  \\nFemale employees a re entitled to **12 weeks of paid maternity leave**. Employees must \\nnotify HR at least one month before the expected delivery date.  \\n2.4 Paternity Leave  \\nMale employees are entitled to **2 weeks of paid paternity leave** to support their spouse \\nduring childb irth. This leave should be availed within 6 months of the child’s birth.  \\n2.5 Bereavement Leave  \\nIn the unfortunate event of a death in the immediate family, employees can avail up to **5 \\ndays of paid bereavement leave**.  \\n2.6 Unpaid Leave  \\nEmployees may apply  for unpaid leave for personal reasons. Approval is at the discretion of \\nmanagement based on business needs.  \\n3. Leave Application Process  \\n1. Employees must submit a leave request through the HR portal or email their manager at \\nleast **7 days in advance** f or planned leave.  '),\n",
       " Document(metadata={'source': 'HR_data\\\\hrtech_HR_leaves_2025_policy_v1.pdf', 'page': 1}, page_content='2. Emergency leave must be reported as soon as possible to the HR department.  \\n3. Approval is subject to workload and business requirements.  \\n4. Unapproved absences may result in disciplinary action.  \\n4. Public Holidays  \\nABC Corp follows nati onal and regional public holidays. The HR department will release an \\nannual holiday calendar at the beginning of each year.  \\n5. Policy Compliance  \\nNon -compliance with this policy may result in disciplinary action. Repeated unauthorized \\nabsences may lead to warnings, salary deductions, or termination.  '),\n",
       " Document(metadata={'source': 'HR_data\\\\hrtech_HR_remote_work_policy_v1.pdf', 'page': 0}, page_content='ABC Corp Remote Work Policy  \\n**Company Name:** ABC Corp  \\n**Policy Name:** Remote Work Policy  \\n**Effective Date:** [DD/MM/YYYY]  \\n**Version:** 1.0  \\n1. Purpose  \\nThe purpose of this policy is to provide clear guidelines for employees who work remotely. \\nABC Corp supports remote work as a flexible arrangement that enhances work -life balance \\nwhile maintaining productivity. This policy outlines eligibility, expectations, security \\nmeasures, and performance monitoring for remote employees.  \\n2. Eligibility  \\nRemote work is  available to employees whose job responsibilities can be performed offsite \\nwithout affecting productivity. Eligibility is determined based on the nature of the job, \\nindividual performance, and managerial discretion.  \\nEligible employees must:  \\n1. Have comple ted at least 6 months of employment at ABC Corp.  \\n2. Maintain a satisfactory performance record.  \\n3. Have a dedicated workspace that ensures productivity and security.  \\n3. Work Hours & Availability  \\nRemote employees are expected to adhere to standard company w orking hours unless \\notherwise approved. Core working hours are from 9:00 AM to 5:00 PM, with flexibility as \\nneeded.  \\nEmployees must:  \\n1. Be available during agreed -upon working hours.  \\n2. Attend scheduled meetings and respond to emails promptly.  \\n3. Notify man agers in advance if they need to adjust work schedules.  \\n4. Communication & Collaboration  \\nEffective communication is essential for remote work success. Employees must use \\ncompany -approved tools to stay connected with teams.  \\nApproved communication tools:  '),\n",
       " Document(metadata={'source': 'HR_data\\\\hrtech_HR_remote_work_policy_v1.pdf', 'page': 1}, page_content='1. Email - Official communication and document sharing.  \\n2. Slack/Microsoft Teams - Instant messaging and team collaboration.  \\n3. Zoom/Google Meet - Virtual meetings and video conferencing.  \\n4. Project Management Tools (Trello, Asana) - Task tracking and collabo ration.  \\n5. Data Security & Confidentiality  \\nTo protect company information, remote employees must follow strict security guidelines.  \\nSecurity measures include:  \\n1. Using a company -approved VPN for secure access to internal systems.  \\n2. Avoiding the use of public Wi -Fi networks for work -related activities.  \\n3. Storing company files only on approved cloud storage platforms.  \\n4. Keeping work devices locked and secured when not in use.  \\n6. Performance Monitoring  \\nManagers will monitor remote work performance throug h regular check -ins, progress \\nreports, and measurable outcomes.  \\nPerformance expectations include:  \\n1. Meeting deadlines and project goals.  \\n2. Maintaining communication with team members and managers.  \\n3. Ensuring productivity remains consistent with in -offic e work.  \\n7. Equipment & Reimbursement  \\nEmployees may be provided with necessary equipment for remote work, including laptops, \\nheadsets, and external monitors.  \\nReimbursement policies:  \\n1. Employees can claim expenses for home office setups with prior approval.  \\n2. Internet costs may be partially reimbursed based on company policy.  \\n3. Any damage or loss of company -provided equipment must be reported immediately.  \\n8. Health & Safety  \\nRemote employees must ensure a safe and ergonomic work environment.  \\nGuidelines:  '),\n",
       " Document(metadata={'source': 'HR_data\\\\hrtech_HR_remote_work_policy_v1.pdf', 'page': 2}, page_content='1. Maintain proper lighting and ventilation in the workspace.  \\n2. Use ergonomic furniture to avoid strain and injuries.  \\n3. Take regular breaks to prevent fatigue and improve productivity.  \\n9. Policy Compliance  \\nNon -compliance with this policy may result in the revocation of remote work privileges. \\nRepeated violations may lead to disciplinary action.  \\n10. Acknowledgment  \\nEmployees must acknowledge that they have read and understood the Remote Work Policy. \\nThis acknowledgment ensures that employees agree to adhere t o all guidelines and \\nexpectations.  ')]"
      ]
     },
     "execution_count": 6,
     "metadata": {},
     "output_type": "execute_result"
    }
   ],
   "source": [
    "documents = loader.load()\n",
    "documents"
   ]
  },
  {
   "cell_type": "code",
   "execution_count": 7,
   "metadata": {},
   "outputs": [],
   "source": [
    "# File Name Format : CompanyName_DepartmentName_PolicyName_Version.pdf"
   ]
  },
  {
   "cell_type": "code",
   "execution_count": 8,
   "metadata": {},
   "outputs": [],
   "source": [
    "# define the llm\n",
    "llm = ChatGroq(model=\"llama-3.3-70b-versatile\",temperature=0)"
   ]
  },
  {
   "cell_type": "code",
   "execution_count": 9,
   "metadata": {},
   "outputs": [],
   "source": [
    "# structured ouput\n",
    "class MetaDataModel(BaseModel):\n",
    "    keywords: List[str] = Field(...,description=\"Keywords present in the chunk document\")\n",
    "    summary: str = Field(...,description=\"Summarized content of the chunk document\")"
   ]
  },
  {
   "cell_type": "code",
   "execution_count": 10,
   "metadata": {},
   "outputs": [],
   "source": [
    "# strctured llm\n",
    "structured_llm = llm.with_structured_output(MetaDataModel)"
   ]
  },
  {
   "cell_type": "code",
   "execution_count": 11,
   "metadata": {},
   "outputs": [],
   "source": [
    "# write the prompt\n",
    "system = \"\"\"You are an expert in text summarization and keyword extraction. Your task is to analyze the given content and provide two outputs:\n",
    "\n",
    "1. **Summary**: Generate a concise and clear summary (1-2 sentences) that captures the essence of the content.\n",
    "The summary should be informative, retain key details, and maintain the core message of the text.\n",
    "\n",
    "2. **Keywords**: Extract the **5 most relevant keywords** that best represent the content. \n",
    "The keywords should be meaningful, precise, and directly related to the subject matter.\n",
    "Prioritize important concepts and avoid generic or overly common words.\n",
    "\"\"\"\n",
    "\n",
    "summarizer_prompt = ChatPromptTemplate.from_messages(messages=[\n",
    "    (\"system\",system),\n",
    "    (\"human\",\"content : \\n {content}\")\n",
    "])\n",
    "\n",
    "summarizer_chain = summarizer_prompt | structured_llm "
   ]
  },
  {
   "cell_type": "code",
   "execution_count": 12,
   "metadata": {},
   "outputs": [],
   "source": [
    "def get_summary_keywords(chunk):\n",
    "    content = chunk.page_content\n",
    "    response = summarizer_chain.invoke({\"content\":content})\n",
    "    keywords = response.keywords\n",
    "    summary = response.summary\n",
    "    return keywords,summary"
   ]
  },
  {
   "cell_type": "code",
   "execution_count": 13,
   "metadata": {},
   "outputs": [
    {
     "data": {
      "text/plain": [
       "'leaves_2025'"
      ]
     },
     "execution_count": 13,
     "metadata": {},
     "output_type": "execute_result"
    }
   ],
   "source": [
    "string = \"hrtech_HR_leaves_2025_policy_v1\"\n",
    "match = re.search(r'HR_(.*?)_policy', string)\n",
    "\n",
    "# Extract and format the policy name\n",
    "policy_name = match.group(1) if match else None\n",
    "policy_name"
   ]
  },
  {
   "cell_type": "code",
   "execution_count": 14,
   "metadata": {},
   "outputs": [],
   "source": [
    "def get_metadata(document):\n",
    "    file_name = document.metadata['source'].split(\".pdf\")[0].split('\\\\')[1]\n",
    "    version = file_name.split(\"_\")[-1]\n",
    "    department = file_name.split(\"_\")[1]\n",
    "    return file_name,version,department"
   ]
  },
  {
   "cell_type": "code",
   "execution_count": 15,
   "metadata": {},
   "outputs": [],
   "source": [
    "for doc in documents:\n",
    "    filename,version,department = get_metadata(doc)\n",
    "    doc.metadata['filename'] = filename\n",
    "    doc.metadata['department'] = department\n",
    "    doc.metadata['version'] = version"
   ]
  },
  {
   "cell_type": "code",
   "execution_count": 16,
   "metadata": {},
   "outputs": [
    {
     "data": {
      "text/plain": [
       "[Document(metadata={'source': 'HR_data\\\\hrtech_HR_code_of_coduct_policy_v1.pdf', 'page': 0, 'filename': 'hrtech_HR_code_of_coduct_policy_v1', 'department': 'HR', 'version': 'v1'}, page_content='ABC Corp Code of Conduct Policy  \\n**Company Name:** ABC Corp  \\n**Policy Name:** Code of Conduct  \\n**Effective Date:** [DD/MM/YYYY]  \\n**Version:** 1.0  \\n1. Purpose  \\nThe purpose of this Code of Conduct policy is to outline the standards of behavior expected \\nfrom all employees at ABC Corp. We are committed to maintaining a professional, ethical, \\nand respectful work environment. Failure to adhere to these standards may result in \\ndisciplinary action, including termination.  \\n2. Workplace Behavior  \\n2.1 Professional Conduct  \\nEmployees are expected to act professionally, responsibly, and ethically at all times. They \\nshould treat colleagues, clients, and stakeholders with respect and integrity.  \\n2.2 Harassment and Discrimination  \\nABC Corp maintains a zero -tolerance policy towards a ny form of harassment, \\ndiscrimination, or bullying. This includes but is not limited to discrimination based on race, \\ngender, religion, nationality, disability, or sexual orientation.  \\n2.3 Workplace Safety  \\nEmployees are responsible for maintaining a safe an d healthy work environment. All safety \\npolicies and procedures must be followed, and any workplace hazards should be reported \\nimmediately.  \\n3. Ethical Guidelines  \\n3.1 Integrity and Honesty  \\nEmployees must always act with integrity and honesty in their profess ional dealings. Any \\nform of fraud, deceit, or misrepresentation will not be tolerated.  \\n3.2 Confidentiality  \\nEmployees must maintain confidentiality regarding company information, trade secrets, \\nand sensitive data. Unauthorized sharing of confidential inform ation may result in \\ndisciplinary action.  '),\n",
       " Document(metadata={'source': 'HR_data\\\\hrtech_HR_code_of_coduct_policy_v1.pdf', 'page': 1, 'filename': 'hrtech_HR_code_of_coduct_policy_v1', 'department': 'HR', 'version': 'v1'}, page_content='3.3 Conflict of Interest  \\nEmployees must avoid conflicts of interest that could interfere with their professional \\nresponsibilities. Any potential conflicts should be disclosed to management immediately.  \\n4. Use of Com pany Resources  \\nCompany resources, including computers, internet access, phones, and office supplies, \\nshould be used responsibly and for work -related purposes. Misuse of company resources \\nfor personal gain or unethical activities is prohibited.  \\n5. Reporting  Violations  \\nEmployees are encouraged to report any violations of this Code of Conduct. Reports can be \\nmade anonymously through the HR department. Retaliation against employees who report \\nmisconduct will not be tolerated.  \\n6. Disciplinary Actions  \\nAny violati ons of this Code of Conduct will be subject to disciplinary action, including verbal \\nwarnings, written warnings, suspension, or termination, depending on the severity of the \\nviolation.  \\n7. Acknowledgment and Compliance  \\nEmployees must acknowledge that they have read and understood the Code of Conduct. \\nCompliance with this policy is mandatory, and any failure to adhere to these guidelines may \\nresult in disciplinary action.  '),\n",
       " Document(metadata={'source': 'HR_data\\\\hrtech_HR_leaves_2025_policy_v1.pdf', 'page': 0, 'filename': 'hrtech_HR_leaves_2025_policy_v1', 'department': 'HR', 'version': 'v1'}, page_content='ABC Corp Leave Policy  \\n**Company Name:** ABC Corp  \\n**Policy Name:** Leave Policy  \\n**Effective Date:** [DD/MM/YYYY]  \\n**Version:** 1.0  \\n1. Purpose  \\nThis policy outlines the leave entitlements, procedures, and guidelines for employees at \\nABC Corp. The goal is to ensure that employees take necessary time off while maintaining \\nbusiness efficiency.  \\n2. Types of Leave  \\n2.1 Annual Leave  \\nEmployees are entitled to **20 days of paid annual leave** per year. Unused annual leave \\ncan be carried forward for up to one year. Leav e must be planned in advance and approved \\nby the manager.  \\n2.2 Sick Leave  \\nEmployees can take up to **10 days of paid sick leave** per year. A medical certificate is \\nrequired for sick leave exceeding 2 consecutive days.  \\n2.3 Maternity Leave  \\nFemale employees a re entitled to **12 weeks of paid maternity leave**. Employees must \\nnotify HR at least one month before the expected delivery date.  \\n2.4 Paternity Leave  \\nMale employees are entitled to **2 weeks of paid paternity leave** to support their spouse \\nduring childb irth. This leave should be availed within 6 months of the child’s birth.  \\n2.5 Bereavement Leave  \\nIn the unfortunate event of a death in the immediate family, employees can avail up to **5 \\ndays of paid bereavement leave**.  \\n2.6 Unpaid Leave  \\nEmployees may apply  for unpaid leave for personal reasons. Approval is at the discretion of \\nmanagement based on business needs.  \\n3. Leave Application Process  \\n1. Employees must submit a leave request through the HR portal or email their manager at \\nleast **7 days in advance** f or planned leave.  '),\n",
       " Document(metadata={'source': 'HR_data\\\\hrtech_HR_leaves_2025_policy_v1.pdf', 'page': 1, 'filename': 'hrtech_HR_leaves_2025_policy_v1', 'department': 'HR', 'version': 'v1'}, page_content='2. Emergency leave must be reported as soon as possible to the HR department.  \\n3. Approval is subject to workload and business requirements.  \\n4. Unapproved absences may result in disciplinary action.  \\n4. Public Holidays  \\nABC Corp follows nati onal and regional public holidays. The HR department will release an \\nannual holiday calendar at the beginning of each year.  \\n5. Policy Compliance  \\nNon -compliance with this policy may result in disciplinary action. Repeated unauthorized \\nabsences may lead to warnings, salary deductions, or termination.  '),\n",
       " Document(metadata={'source': 'HR_data\\\\hrtech_HR_remote_work_policy_v1.pdf', 'page': 0, 'filename': 'hrtech_HR_remote_work_policy_v1', 'department': 'HR', 'version': 'v1'}, page_content='ABC Corp Remote Work Policy  \\n**Company Name:** ABC Corp  \\n**Policy Name:** Remote Work Policy  \\n**Effective Date:** [DD/MM/YYYY]  \\n**Version:** 1.0  \\n1. Purpose  \\nThe purpose of this policy is to provide clear guidelines for employees who work remotely. \\nABC Corp supports remote work as a flexible arrangement that enhances work -life balance \\nwhile maintaining productivity. This policy outlines eligibility, expectations, security \\nmeasures, and performance monitoring for remote employees.  \\n2. Eligibility  \\nRemote work is  available to employees whose job responsibilities can be performed offsite \\nwithout affecting productivity. Eligibility is determined based on the nature of the job, \\nindividual performance, and managerial discretion.  \\nEligible employees must:  \\n1. Have comple ted at least 6 months of employment at ABC Corp.  \\n2. Maintain a satisfactory performance record.  \\n3. Have a dedicated workspace that ensures productivity and security.  \\n3. Work Hours & Availability  \\nRemote employees are expected to adhere to standard company w orking hours unless \\notherwise approved. Core working hours are from 9:00 AM to 5:00 PM, with flexibility as \\nneeded.  \\nEmployees must:  \\n1. Be available during agreed -upon working hours.  \\n2. Attend scheduled meetings and respond to emails promptly.  \\n3. Notify man agers in advance if they need to adjust work schedules.  \\n4. Communication & Collaboration  \\nEffective communication is essential for remote work success. Employees must use \\ncompany -approved tools to stay connected with teams.  \\nApproved communication tools:  '),\n",
       " Document(metadata={'source': 'HR_data\\\\hrtech_HR_remote_work_policy_v1.pdf', 'page': 1, 'filename': 'hrtech_HR_remote_work_policy_v1', 'department': 'HR', 'version': 'v1'}, page_content='1. Email - Official communication and document sharing.  \\n2. Slack/Microsoft Teams - Instant messaging and team collaboration.  \\n3. Zoom/Google Meet - Virtual meetings and video conferencing.  \\n4. Project Management Tools (Trello, Asana) - Task tracking and collabo ration.  \\n5. Data Security & Confidentiality  \\nTo protect company information, remote employees must follow strict security guidelines.  \\nSecurity measures include:  \\n1. Using a company -approved VPN for secure access to internal systems.  \\n2. Avoiding the use of public Wi -Fi networks for work -related activities.  \\n3. Storing company files only on approved cloud storage platforms.  \\n4. Keeping work devices locked and secured when not in use.  \\n6. Performance Monitoring  \\nManagers will monitor remote work performance throug h regular check -ins, progress \\nreports, and measurable outcomes.  \\nPerformance expectations include:  \\n1. Meeting deadlines and project goals.  \\n2. Maintaining communication with team members and managers.  \\n3. Ensuring productivity remains consistent with in -offic e work.  \\n7. Equipment & Reimbursement  \\nEmployees may be provided with necessary equipment for remote work, including laptops, \\nheadsets, and external monitors.  \\nReimbursement policies:  \\n1. Employees can claim expenses for home office setups with prior approval.  \\n2. Internet costs may be partially reimbursed based on company policy.  \\n3. Any damage or loss of company -provided equipment must be reported immediately.  \\n8. Health & Safety  \\nRemote employees must ensure a safe and ergonomic work environment.  \\nGuidelines:  '),\n",
       " Document(metadata={'source': 'HR_data\\\\hrtech_HR_remote_work_policy_v1.pdf', 'page': 2, 'filename': 'hrtech_HR_remote_work_policy_v1', 'department': 'HR', 'version': 'v1'}, page_content='1. Maintain proper lighting and ventilation in the workspace.  \\n2. Use ergonomic furniture to avoid strain and injuries.  \\n3. Take regular breaks to prevent fatigue and improve productivity.  \\n9. Policy Compliance  \\nNon -compliance with this policy may result in the revocation of remote work privileges. \\nRepeated violations may lead to disciplinary action.  \\n10. Acknowledgment  \\nEmployees must acknowledge that they have read and understood the Remote Work Policy. \\nThis acknowledgment ensures that employees agree to adhere t o all guidelines and \\nexpectations.  ')]"
      ]
     },
     "execution_count": 16,
     "metadata": {},
     "output_type": "execute_result"
    }
   ],
   "source": [
    "documents"
   ]
  },
  {
   "cell_type": "code",
   "execution_count": 17,
   "metadata": {},
   "outputs": [],
   "source": [
    "text_splitter = RecursiveCharacterTextSplitter(chunk_size=500,chunk_overlap=150)\n",
    "chunks = text_splitter.split_documents(documents=documents)"
   ]
  },
  {
   "cell_type": "code",
   "execution_count": 18,
   "metadata": {},
   "outputs": [
    {
     "data": {
      "text/plain": [
       "[Document(metadata={'source': 'HR_data\\\\hrtech_HR_code_of_coduct_policy_v1.pdf', 'page': 0, 'filename': 'hrtech_HR_code_of_coduct_policy_v1', 'department': 'HR', 'version': 'v1'}, page_content='ABC Corp Code of Conduct Policy  \\n**Company Name:** ABC Corp  \\n**Policy Name:** Code of Conduct  \\n**Effective Date:** [DD/MM/YYYY]  \\n**Version:** 1.0  \\n1. Purpose  \\nThe purpose of this Code of Conduct policy is to outline the standards of behavior expected \\nfrom all employees at ABC Corp. We are committed to maintaining a professional, ethical, \\nand respectful work environment. Failure to adhere to these standards may result in \\ndisciplinary action, including termination.'),\n",
       " Document(metadata={'source': 'HR_data\\\\hrtech_HR_code_of_coduct_policy_v1.pdf', 'page': 0, 'filename': 'hrtech_HR_code_of_coduct_policy_v1', 'department': 'HR', 'version': 'v1'}, page_content='and respectful work environment. Failure to adhere to these standards may result in \\ndisciplinary action, including termination.  \\n2. Workplace Behavior  \\n2.1 Professional Conduct  \\nEmployees are expected to act professionally, responsibly, and ethically at all times. They \\nshould treat colleagues, clients, and stakeholders with respect and integrity.  \\n2.2 Harassment and Discrimination  \\nABC Corp maintains a zero -tolerance policy towards a ny form of harassment,'),\n",
       " Document(metadata={'source': 'HR_data\\\\hrtech_HR_code_of_coduct_policy_v1.pdf', 'page': 0, 'filename': 'hrtech_HR_code_of_coduct_policy_v1', 'department': 'HR', 'version': 'v1'}, page_content='2.2 Harassment and Discrimination  \\nABC Corp maintains a zero -tolerance policy towards a ny form of harassment, \\ndiscrimination, or bullying. This includes but is not limited to discrimination based on race, \\ngender, religion, nationality, disability, or sexual orientation.  \\n2.3 Workplace Safety  \\nEmployees are responsible for maintaining a safe an d healthy work environment. All safety \\npolicies and procedures must be followed, and any workplace hazards should be reported \\nimmediately.'),\n",
       " Document(metadata={'source': 'HR_data\\\\hrtech_HR_code_of_coduct_policy_v1.pdf', 'page': 0, 'filename': 'hrtech_HR_code_of_coduct_policy_v1', 'department': 'HR', 'version': 'v1'}, page_content='policies and procedures must be followed, and any workplace hazards should be reported \\nimmediately.  \\n3. Ethical Guidelines  \\n3.1 Integrity and Honesty  \\nEmployees must always act with integrity and honesty in their profess ional dealings. Any \\nform of fraud, deceit, or misrepresentation will not be tolerated.  \\n3.2 Confidentiality  \\nEmployees must maintain confidentiality regarding company information, trade secrets,'),\n",
       " Document(metadata={'source': 'HR_data\\\\hrtech_HR_code_of_coduct_policy_v1.pdf', 'page': 0, 'filename': 'hrtech_HR_code_of_coduct_policy_v1', 'department': 'HR', 'version': 'v1'}, page_content='3.2 Confidentiality  \\nEmployees must maintain confidentiality regarding company information, trade secrets, \\nand sensitive data. Unauthorized sharing of confidential inform ation may result in \\ndisciplinary action.'),\n",
       " Document(metadata={'source': 'HR_data\\\\hrtech_HR_code_of_coduct_policy_v1.pdf', 'page': 1, 'filename': 'hrtech_HR_code_of_coduct_policy_v1', 'department': 'HR', 'version': 'v1'}, page_content='3.3 Conflict of Interest  \\nEmployees must avoid conflicts of interest that could interfere with their professional \\nresponsibilities. Any potential conflicts should be disclosed to management immediately.  \\n4. Use of Com pany Resources  \\nCompany resources, including computers, internet access, phones, and office supplies, \\nshould be used responsibly and for work -related purposes. Misuse of company resources \\nfor personal gain or unethical activities is prohibited.  \\n5. Reporting  Violations'),\n",
       " Document(metadata={'source': 'HR_data\\\\hrtech_HR_code_of_coduct_policy_v1.pdf', 'page': 1, 'filename': 'hrtech_HR_code_of_coduct_policy_v1', 'department': 'HR', 'version': 'v1'}, page_content='for personal gain or unethical activities is prohibited.  \\n5. Reporting  Violations  \\nEmployees are encouraged to report any violations of this Code of Conduct. Reports can be \\nmade anonymously through the HR department. Retaliation against employees who report \\nmisconduct will not be tolerated.  \\n6. Disciplinary Actions  \\nAny violati ons of this Code of Conduct will be subject to disciplinary action, including verbal'),\n",
       " Document(metadata={'source': 'HR_data\\\\hrtech_HR_code_of_coduct_policy_v1.pdf', 'page': 1, 'filename': 'hrtech_HR_code_of_coduct_policy_v1', 'department': 'HR', 'version': 'v1'}, page_content='6. Disciplinary Actions  \\nAny violati ons of this Code of Conduct will be subject to disciplinary action, including verbal \\nwarnings, written warnings, suspension, or termination, depending on the severity of the \\nviolation.  \\n7. Acknowledgment and Compliance  \\nEmployees must acknowledge that they have read and understood the Code of Conduct. \\nCompliance with this policy is mandatory, and any failure to adhere to these guidelines may \\nresult in disciplinary action.'),\n",
       " Document(metadata={'source': 'HR_data\\\\hrtech_HR_leaves_2025_policy_v1.pdf', 'page': 0, 'filename': 'hrtech_HR_leaves_2025_policy_v1', 'department': 'HR', 'version': 'v1'}, page_content='ABC Corp Leave Policy  \\n**Company Name:** ABC Corp  \\n**Policy Name:** Leave Policy  \\n**Effective Date:** [DD/MM/YYYY]  \\n**Version:** 1.0  \\n1. Purpose  \\nThis policy outlines the leave entitlements, procedures, and guidelines for employees at \\nABC Corp. The goal is to ensure that employees take necessary time off while maintaining \\nbusiness efficiency.  \\n2. Types of Leave  \\n2.1 Annual Leave  \\nEmployees are entitled to **20 days of paid annual leave** per year. Unused annual leave'),\n",
       " Document(metadata={'source': 'HR_data\\\\hrtech_HR_leaves_2025_policy_v1.pdf', 'page': 0, 'filename': 'hrtech_HR_leaves_2025_policy_v1', 'department': 'HR', 'version': 'v1'}, page_content='2. Types of Leave  \\n2.1 Annual Leave  \\nEmployees are entitled to **20 days of paid annual leave** per year. Unused annual leave \\ncan be carried forward for up to one year. Leav e must be planned in advance and approved \\nby the manager.  \\n2.2 Sick Leave  \\nEmployees can take up to **10 days of paid sick leave** per year. A medical certificate is \\nrequired for sick leave exceeding 2 consecutive days.  \\n2.3 Maternity Leave'),\n",
       " Document(metadata={'source': 'HR_data\\\\hrtech_HR_leaves_2025_policy_v1.pdf', 'page': 0, 'filename': 'hrtech_HR_leaves_2025_policy_v1', 'department': 'HR', 'version': 'v1'}, page_content='required for sick leave exceeding 2 consecutive days.  \\n2.3 Maternity Leave  \\nFemale employees a re entitled to **12 weeks of paid maternity leave**. Employees must \\nnotify HR at least one month before the expected delivery date.  \\n2.4 Paternity Leave  \\nMale employees are entitled to **2 weeks of paid paternity leave** to support their spouse \\nduring childb irth. This leave should be availed within 6 months of the child’s birth.  \\n2.5 Bereavement Leave'),\n",
       " Document(metadata={'source': 'HR_data\\\\hrtech_HR_leaves_2025_policy_v1.pdf', 'page': 0, 'filename': 'hrtech_HR_leaves_2025_policy_v1', 'department': 'HR', 'version': 'v1'}, page_content='during childb irth. This leave should be availed within 6 months of the child’s birth.  \\n2.5 Bereavement Leave  \\nIn the unfortunate event of a death in the immediate family, employees can avail up to **5 \\ndays of paid bereavement leave**.  \\n2.6 Unpaid Leave  \\nEmployees may apply  for unpaid leave for personal reasons. Approval is at the discretion of \\nmanagement based on business needs.  \\n3. Leave Application Process'),\n",
       " Document(metadata={'source': 'HR_data\\\\hrtech_HR_leaves_2025_policy_v1.pdf', 'page': 0, 'filename': 'hrtech_HR_leaves_2025_policy_v1', 'department': 'HR', 'version': 'v1'}, page_content='management based on business needs.  \\n3. Leave Application Process  \\n1. Employees must submit a leave request through the HR portal or email their manager at \\nleast **7 days in advance** f or planned leave.'),\n",
       " Document(metadata={'source': 'HR_data\\\\hrtech_HR_leaves_2025_policy_v1.pdf', 'page': 1, 'filename': 'hrtech_HR_leaves_2025_policy_v1', 'department': 'HR', 'version': 'v1'}, page_content='2. Emergency leave must be reported as soon as possible to the HR department.  \\n3. Approval is subject to workload and business requirements.  \\n4. Unapproved absences may result in disciplinary action.  \\n4. Public Holidays  \\nABC Corp follows nati onal and regional public holidays. The HR department will release an \\nannual holiday calendar at the beginning of each year.  \\n5. Policy Compliance  \\nNon -compliance with this policy may result in disciplinary action. Repeated unauthorized'),\n",
       " Document(metadata={'source': 'HR_data\\\\hrtech_HR_leaves_2025_policy_v1.pdf', 'page': 1, 'filename': 'hrtech_HR_leaves_2025_policy_v1', 'department': 'HR', 'version': 'v1'}, page_content='5. Policy Compliance  \\nNon -compliance with this policy may result in disciplinary action. Repeated unauthorized \\nabsences may lead to warnings, salary deductions, or termination.'),\n",
       " Document(metadata={'source': 'HR_data\\\\hrtech_HR_remote_work_policy_v1.pdf', 'page': 0, 'filename': 'hrtech_HR_remote_work_policy_v1', 'department': 'HR', 'version': 'v1'}, page_content='ABC Corp Remote Work Policy  \\n**Company Name:** ABC Corp  \\n**Policy Name:** Remote Work Policy  \\n**Effective Date:** [DD/MM/YYYY]  \\n**Version:** 1.0  \\n1. Purpose  \\nThe purpose of this policy is to provide clear guidelines for employees who work remotely. \\nABC Corp supports remote work as a flexible arrangement that enhances work -life balance \\nwhile maintaining productivity. This policy outlines eligibility, expectations, security \\nmeasures, and performance monitoring for remote employees.'),\n",
       " Document(metadata={'source': 'HR_data\\\\hrtech_HR_remote_work_policy_v1.pdf', 'page': 0, 'filename': 'hrtech_HR_remote_work_policy_v1', 'department': 'HR', 'version': 'v1'}, page_content='measures, and performance monitoring for remote employees.  \\n2. Eligibility  \\nRemote work is  available to employees whose job responsibilities can be performed offsite \\nwithout affecting productivity. Eligibility is determined based on the nature of the job, \\nindividual performance, and managerial discretion.  \\nEligible employees must:  \\n1. Have comple ted at least 6 months of employment at ABC Corp.  \\n2. Maintain a satisfactory performance record.'),\n",
       " Document(metadata={'source': 'HR_data\\\\hrtech_HR_remote_work_policy_v1.pdf', 'page': 0, 'filename': 'hrtech_HR_remote_work_policy_v1', 'department': 'HR', 'version': 'v1'}, page_content='Eligible employees must:  \\n1. Have comple ted at least 6 months of employment at ABC Corp.  \\n2. Maintain a satisfactory performance record.  \\n3. Have a dedicated workspace that ensures productivity and security.  \\n3. Work Hours & Availability  \\nRemote employees are expected to adhere to standard company w orking hours unless \\notherwise approved. Core working hours are from 9:00 AM to 5:00 PM, with flexibility as \\nneeded.  \\nEmployees must:  \\n1. Be available during agreed -upon working hours.'),\n",
       " Document(metadata={'source': 'HR_data\\\\hrtech_HR_remote_work_policy_v1.pdf', 'page': 0, 'filename': 'hrtech_HR_remote_work_policy_v1', 'department': 'HR', 'version': 'v1'}, page_content='needed.  \\nEmployees must:  \\n1. Be available during agreed -upon working hours.  \\n2. Attend scheduled meetings and respond to emails promptly.  \\n3. Notify man agers in advance if they need to adjust work schedules.  \\n4. Communication & Collaboration  \\nEffective communication is essential for remote work success. Employees must use \\ncompany -approved tools to stay connected with teams.  \\nApproved communication tools:'),\n",
       " Document(metadata={'source': 'HR_data\\\\hrtech_HR_remote_work_policy_v1.pdf', 'page': 1, 'filename': 'hrtech_HR_remote_work_policy_v1', 'department': 'HR', 'version': 'v1'}, page_content='1. Email - Official communication and document sharing.  \\n2. Slack/Microsoft Teams - Instant messaging and team collaboration.  \\n3. Zoom/Google Meet - Virtual meetings and video conferencing.  \\n4. Project Management Tools (Trello, Asana) - Task tracking and collabo ration.  \\n5. Data Security & Confidentiality  \\nTo protect company information, remote employees must follow strict security guidelines.  \\nSecurity measures include:'),\n",
       " Document(metadata={'source': 'HR_data\\\\hrtech_HR_remote_work_policy_v1.pdf', 'page': 1, 'filename': 'hrtech_HR_remote_work_policy_v1', 'department': 'HR', 'version': 'v1'}, page_content='To protect company information, remote employees must follow strict security guidelines.  \\nSecurity measures include:  \\n1. Using a company -approved VPN for secure access to internal systems.  \\n2. Avoiding the use of public Wi -Fi networks for work -related activities.  \\n3. Storing company files only on approved cloud storage platforms.  \\n4. Keeping work devices locked and secured when not in use.  \\n6. Performance Monitoring'),\n",
       " Document(metadata={'source': 'HR_data\\\\hrtech_HR_remote_work_policy_v1.pdf', 'page': 1, 'filename': 'hrtech_HR_remote_work_policy_v1', 'department': 'HR', 'version': 'v1'}, page_content='4. Keeping work devices locked and secured when not in use.  \\n6. Performance Monitoring  \\nManagers will monitor remote work performance throug h regular check -ins, progress \\nreports, and measurable outcomes.  \\nPerformance expectations include:  \\n1. Meeting deadlines and project goals.  \\n2. Maintaining communication with team members and managers.  \\n3. Ensuring productivity remains consistent with in -offic e work.  \\n7. Equipment & Reimbursement'),\n",
       " Document(metadata={'source': 'HR_data\\\\hrtech_HR_remote_work_policy_v1.pdf', 'page': 1, 'filename': 'hrtech_HR_remote_work_policy_v1', 'department': 'HR', 'version': 'v1'}, page_content='3. Ensuring productivity remains consistent with in -offic e work.  \\n7. Equipment & Reimbursement  \\nEmployees may be provided with necessary equipment for remote work, including laptops, \\nheadsets, and external monitors.  \\nReimbursement policies:  \\n1. Employees can claim expenses for home office setups with prior approval.  \\n2. Internet costs may be partially reimbursed based on company policy.  \\n3. Any damage or loss of company -provided equipment must be reported immediately.'),\n",
       " Document(metadata={'source': 'HR_data\\\\hrtech_HR_remote_work_policy_v1.pdf', 'page': 1, 'filename': 'hrtech_HR_remote_work_policy_v1', 'department': 'HR', 'version': 'v1'}, page_content='3. Any damage or loss of company -provided equipment must be reported immediately.  \\n8. Health & Safety  \\nRemote employees must ensure a safe and ergonomic work environment.  \\nGuidelines:'),\n",
       " Document(metadata={'source': 'HR_data\\\\hrtech_HR_remote_work_policy_v1.pdf', 'page': 2, 'filename': 'hrtech_HR_remote_work_policy_v1', 'department': 'HR', 'version': 'v1'}, page_content='1. Maintain proper lighting and ventilation in the workspace.  \\n2. Use ergonomic furniture to avoid strain and injuries.  \\n3. Take regular breaks to prevent fatigue and improve productivity.  \\n9. Policy Compliance  \\nNon -compliance with this policy may result in the revocation of remote work privileges. \\nRepeated violations may lead to disciplinary action.  \\n10. Acknowledgment  \\nEmployees must acknowledge that they have read and understood the Remote Work Policy.'),\n",
       " Document(metadata={'source': 'HR_data\\\\hrtech_HR_remote_work_policy_v1.pdf', 'page': 2, 'filename': 'hrtech_HR_remote_work_policy_v1', 'department': 'HR', 'version': 'v1'}, page_content='10. Acknowledgment  \\nEmployees must acknowledge that they have read and understood the Remote Work Policy. \\nThis acknowledgment ensures that employees agree to adhere t o all guidelines and \\nexpectations.')]"
      ]
     },
     "execution_count": 18,
     "metadata": {},
     "output_type": "execute_result"
    }
   ],
   "source": [
    "chunks"
   ]
  },
  {
   "cell_type": "code",
   "execution_count": 19,
   "metadata": {},
   "outputs": [],
   "source": [
    "def insert_metadata(chunks):\n",
    "    chunk_counter = defaultdict(int)\n",
    "    for chunk in chunks: \n",
    "        \n",
    "        filename = chunk.metadata['filename']\n",
    "        match = re.search(r'HR_(.*?)_policy', filename)\n",
    "        \n",
    "        chunk_counter[filename] += 1\n",
    "        \n",
    "        keywords,summary = get_summary_keywords(chunk)\n",
    "        chunk.metadata['keywords'] = keywords\n",
    "        chunk.metadata['summary'] = summary\n",
    "        chunk.metadata['chunk_id'] = f\"{match.group(1)}_chunk_{chunk_counter[filename]}\""
   ]
  },
  {
   "cell_type": "code",
   "execution_count": 20,
   "metadata": {},
   "outputs": [],
   "source": [
    "insert_metadata(chunks)"
   ]
  },
  {
   "cell_type": "code",
   "execution_count": 21,
   "metadata": {},
   "outputs": [
    {
     "data": {
      "text/plain": [
       "[Document(metadata={'source': 'HR_data\\\\hrtech_HR_code_of_coduct_policy_v1.pdf', 'page': 0, 'filename': 'hrtech_HR_code_of_coduct_policy_v1', 'department': 'HR', 'version': 'v1', 'keywords': ['Code of Conduct', 'ABC Corp', 'Employee Behavior', 'Work Environment', 'Disciplinary Action'], 'summary': \"ABC Corp's Code of Conduct policy outlines the expected standards of behavior for all employees to maintain a professional and respectful work environment, with non-compliance potentially leading to disciplinary action.\", 'chunk_id': 'code_of_coduct_chunk_1'}, page_content='ABC Corp Code of Conduct Policy  \\n**Company Name:** ABC Corp  \\n**Policy Name:** Code of Conduct  \\n**Effective Date:** [DD/MM/YYYY]  \\n**Version:** 1.0  \\n1. Purpose  \\nThe purpose of this Code of Conduct policy is to outline the standards of behavior expected \\nfrom all employees at ABC Corp. We are committed to maintaining a professional, ethical, \\nand respectful work environment. Failure to adhere to these standards may result in \\ndisciplinary action, including termination.'),\n",
       " Document(metadata={'source': 'HR_data\\\\hrtech_HR_code_of_coduct_policy_v1.pdf', 'page': 0, 'filename': 'hrtech_HR_code_of_coduct_policy_v1', 'department': 'HR', 'version': 'v1', 'keywords': ['Workplace Behavior', 'Professional Conduct', 'Harassment', 'Discrimination', 'Respect'], 'summary': 'ABC Corp expects employees to maintain a professional and respectful work environment, adhering to standards of conduct and integrity, with a zero-tolerance policy towards harassment and discrimination. Failure to comply may result in disciplinary action.', 'chunk_id': 'code_of_coduct_chunk_2'}, page_content='and respectful work environment. Failure to adhere to these standards may result in \\ndisciplinary action, including termination.  \\n2. Workplace Behavior  \\n2.1 Professional Conduct  \\nEmployees are expected to act professionally, responsibly, and ethically at all times. They \\nshould treat colleagues, clients, and stakeholders with respect and integrity.  \\n2.2 Harassment and Discrimination  \\nABC Corp maintains a zero -tolerance policy towards a ny form of harassment,'),\n",
       " Document(metadata={'source': 'HR_data\\\\hrtech_HR_code_of_coduct_policy_v1.pdf', 'page': 0, 'filename': 'hrtech_HR_code_of_coduct_policy_v1', 'department': 'HR', 'version': 'v1', 'keywords': ['Harassment', 'Discrimination', 'Workplace Safety', 'Bullying', 'Policies'], 'summary': 'ABC Corp has a zero-tolerance policy towards harassment, discrimination, and bullying, and employees are responsible for maintaining a safe and healthy work environment by following safety policies and procedures.', 'chunk_id': 'code_of_coduct_chunk_3'}, page_content='2.2 Harassment and Discrimination  \\nABC Corp maintains a zero -tolerance policy towards a ny form of harassment, \\ndiscrimination, or bullying. This includes but is not limited to discrimination based on race, \\ngender, religion, nationality, disability, or sexual orientation.  \\n2.3 Workplace Safety  \\nEmployees are responsible for maintaining a safe an d healthy work environment. All safety \\npolicies and procedures must be followed, and any workplace hazards should be reported \\nimmediately.'),\n",
       " Document(metadata={'source': 'HR_data\\\\hrtech_HR_code_of_coduct_policy_v1.pdf', 'page': 0, 'filename': 'hrtech_HR_code_of_coduct_policy_v1', 'department': 'HR', 'version': 'v1', 'keywords': ['Integrity', 'Honesty', 'Confidentiality', 'Workplace Safety', 'Ethical Guidelines'], 'summary': 'The content emphasizes the importance of following policies and procedures, reporting workplace hazards, and adhering to ethical guidelines such as integrity, honesty, and confidentiality in professional dealings.', 'chunk_id': 'code_of_coduct_chunk_4'}, page_content='policies and procedures must be followed, and any workplace hazards should be reported \\nimmediately.  \\n3. Ethical Guidelines  \\n3.1 Integrity and Honesty  \\nEmployees must always act with integrity and honesty in their profess ional dealings. Any \\nform of fraud, deceit, or misrepresentation will not be tolerated.  \\n3.2 Confidentiality  \\nEmployees must maintain confidentiality regarding company information, trade secrets,'),\n",
       " Document(metadata={'source': 'HR_data\\\\hrtech_HR_code_of_coduct_policy_v1.pdf', 'page': 0, 'filename': 'hrtech_HR_code_of_coduct_policy_v1', 'department': 'HR', 'version': 'v1', 'keywords': ['Confidentiality', 'Company Information', 'Trade Secrets', 'Sensitive Data', 'Disciplinary Action'], 'summary': 'Employees are required to maintain confidentiality regarding company information and sensitive data, with unauthorized sharing potentially resulting in disciplinary action. This ensures the protection of trade secrets and other confidential information.', 'chunk_id': 'code_of_coduct_chunk_5'}, page_content='3.2 Confidentiality  \\nEmployees must maintain confidentiality regarding company information, trade secrets, \\nand sensitive data. Unauthorized sharing of confidential inform ation may result in \\ndisciplinary action.'),\n",
       " Document(metadata={'source': 'HR_data\\\\hrtech_HR_code_of_coduct_policy_v1.pdf', 'page': 1, 'filename': 'hrtech_HR_code_of_coduct_policy_v1', 'department': 'HR', 'version': 'v1', 'keywords': ['Conflict of Interest', 'Company Resources', 'Professional Responsibilities', 'Ethics', 'Compliance'], 'summary': 'Employees must avoid conflicts of interest and use company resources responsibly for work-related purposes, while also reporting any violations to maintain a professional and ethical work environment.', 'chunk_id': 'code_of_coduct_chunk_6'}, page_content='3.3 Conflict of Interest  \\nEmployees must avoid conflicts of interest that could interfere with their professional \\nresponsibilities. Any potential conflicts should be disclosed to management immediately.  \\n4. Use of Com pany Resources  \\nCompany resources, including computers, internet access, phones, and office supplies, \\nshould be used responsibly and for work -related purposes. Misuse of company resources \\nfor personal gain or unethical activities is prohibited.  \\n5. Reporting  Violations'),\n",
       " Document(metadata={'source': 'HR_data\\\\hrtech_HR_code_of_coduct_policy_v1.pdf', 'page': 1, 'filename': 'hrtech_HR_code_of_coduct_policy_v1', 'department': 'HR', 'version': 'v1', 'keywords': ['Code of Conduct', 'Violations', 'Reporting', 'Disciplinary Actions', 'Retaliation'], 'summary': 'The Code of Conduct prohibits unethical activities and encourages employees to report violations, with protections against retaliation and disciplinary actions for non-compliance.', 'chunk_id': 'code_of_coduct_chunk_7'}, page_content='for personal gain or unethical activities is prohibited.  \\n5. Reporting  Violations  \\nEmployees are encouraged to report any violations of this Code of Conduct. Reports can be \\nmade anonymously through the HR department. Retaliation against employees who report \\nmisconduct will not be tolerated.  \\n6. Disciplinary Actions  \\nAny violati ons of this Code of Conduct will be subject to disciplinary action, including verbal'),\n",
       " Document(metadata={'source': 'HR_data\\\\hrtech_HR_code_of_coduct_policy_v1.pdf', 'page': 1, 'filename': 'hrtech_HR_code_of_coduct_policy_v1', 'department': 'HR', 'version': 'v1', 'keywords': ['Disciplinary Actions', 'Code of Conduct', 'Compliance', 'Acknowledgment', 'Termination'], 'summary': 'The Code of Conduct outlines the expected behavior of employees and the disciplinary actions that may be taken if the code is violated, with compliance being mandatory and acknowledged by employees.', 'chunk_id': 'code_of_coduct_chunk_8'}, page_content='6. Disciplinary Actions  \\nAny violati ons of this Code of Conduct will be subject to disciplinary action, including verbal \\nwarnings, written warnings, suspension, or termination, depending on the severity of the \\nviolation.  \\n7. Acknowledgment and Compliance  \\nEmployees must acknowledge that they have read and understood the Code of Conduct. \\nCompliance with this policy is mandatory, and any failure to adhere to these guidelines may \\nresult in disciplinary action.'),\n",
       " Document(metadata={'source': 'HR_data\\\\hrtech_HR_leaves_2025_policy_v1.pdf', 'page': 0, 'filename': 'hrtech_HR_leaves_2025_policy_v1', 'department': 'HR', 'version': 'v1', 'keywords': ['Leave Policy', 'ABC Corp', 'Annual Leave', 'Employee Benefits', 'Paid Time Off'], 'summary': \"ABC Corp's Leave Policy outlines the company's leave entitlements, procedures, and guidelines, aiming to balance employee time off with business efficiency, including 20 days of paid annual leave per year.\", 'chunk_id': 'leaves_2025_chunk_1'}, page_content='ABC Corp Leave Policy  \\n**Company Name:** ABC Corp  \\n**Policy Name:** Leave Policy  \\n**Effective Date:** [DD/MM/YYYY]  \\n**Version:** 1.0  \\n1. Purpose  \\nThis policy outlines the leave entitlements, procedures, and guidelines for employees at \\nABC Corp. The goal is to ensure that employees take necessary time off while maintaining \\nbusiness efficiency.  \\n2. Types of Leave  \\n2.1 Annual Leave  \\nEmployees are entitled to **20 days of paid annual leave** per year. Unused annual leave'),\n",
       " Document(metadata={'source': 'HR_data\\\\hrtech_HR_leaves_2025_policy_v1.pdf', 'page': 0, 'filename': 'hrtech_HR_leaves_2025_policy_v1', 'department': 'HR', 'version': 'v1', 'keywords': ['Annual Leave', 'Sick Leave', 'Maternity Leave', 'Paid Leave', 'Employee Entitlements'], 'summary': 'Employees are entitled to various types of leave, including annual leave, sick leave, and maternity leave, with specific rules and requirements for each. The leave policies include paid leave, carry-over provisions, and requirements for medical certificates.', 'chunk_id': 'leaves_2025_chunk_2'}, page_content='2. Types of Leave  \\n2.1 Annual Leave  \\nEmployees are entitled to **20 days of paid annual leave** per year. Unused annual leave \\ncan be carried forward for up to one year. Leav e must be planned in advance and approved \\nby the manager.  \\n2.2 Sick Leave  \\nEmployees can take up to **10 days of paid sick leave** per year. A medical certificate is \\nrequired for sick leave exceeding 2 consecutive days.  \\n2.3 Maternity Leave'),\n",
       " Document(metadata={'source': 'HR_data\\\\hrtech_HR_leaves_2025_policy_v1.pdf', 'page': 0, 'filename': 'hrtech_HR_leaves_2025_policy_v1', 'department': 'HR', 'version': 'v1', 'keywords': ['maternity leave', 'paternity leave', 'sick leave', 'bereavement leave', 'paid leave'], 'summary': 'The company provides various types of leave, including sick leave, maternity leave, paternity leave, and bereavement leave, with specific requirements and entitlements for each. Employees are entitled to paid maternity leave for 12 weeks and paid paternity leave for 2 weeks.', 'chunk_id': 'leaves_2025_chunk_3'}, page_content='required for sick leave exceeding 2 consecutive days.  \\n2.3 Maternity Leave  \\nFemale employees a re entitled to **12 weeks of paid maternity leave**. Employees must \\nnotify HR at least one month before the expected delivery date.  \\n2.4 Paternity Leave  \\nMale employees are entitled to **2 weeks of paid paternity leave** to support their spouse \\nduring childb irth. This leave should be availed within 6 months of the child’s birth.  \\n2.5 Bereavement Leave'),\n",
       " Document(metadata={'source': 'HR_data\\\\hrtech_HR_leaves_2025_policy_v1.pdf', 'page': 0, 'filename': 'hrtech_HR_leaves_2025_policy_v1', 'department': 'HR', 'version': 'v1', 'keywords': ['childbirth', 'bereavement', 'unpaid leave', 'leave application', 'paid leave'], 'summary': 'The company offers various types of leave, including leave for childbirth, bereavement, and unpaid leave for personal reasons, with specific guidelines and approval processes in place.', 'chunk_id': 'leaves_2025_chunk_4'}, page_content='during childb irth. This leave should be availed within 6 months of the child’s birth.  \\n2.5 Bereavement Leave  \\nIn the unfortunate event of a death in the immediate family, employees can avail up to **5 \\ndays of paid bereavement leave**.  \\n2.6 Unpaid Leave  \\nEmployees may apply  for unpaid leave for personal reasons. Approval is at the discretion of \\nmanagement based on business needs.  \\n3. Leave Application Process'),\n",
       " Document(metadata={'source': 'HR_data\\\\hrtech_HR_leaves_2025_policy_v1.pdf', 'page': 0, 'filename': 'hrtech_HR_leaves_2025_policy_v1', 'department': 'HR', 'version': 'v1', 'keywords': ['leave application', 'HR portal', 'manager', 'planned leave', 'business needs'], 'summary': 'The leave application process requires employees to submit a request through the HR portal or email their manager at least 7 days in advance for planned leave, aligning with business needs.', 'chunk_id': 'leaves_2025_chunk_5'}, page_content='management based on business needs.  \\n3. Leave Application Process  \\n1. Employees must submit a leave request through the HR portal or email their manager at \\nleast **7 days in advance** f or planned leave.'),\n",
       " Document(metadata={'source': 'HR_data\\\\hrtech_HR_leaves_2025_policy_v1.pdf', 'page': 1, 'filename': 'hrtech_HR_leaves_2025_policy_v1', 'department': 'HR', 'version': 'v1', 'keywords': ['Emergency Leave', 'HR Department', 'Public Holidays', 'Disciplinary Action', 'Policy Compliance'], 'summary': 'ABC Corp has a policy for emergency leave, public holidays, and policy compliance, with requirements for reporting and approval, and consequences for non-compliance, including disciplinary action.', 'chunk_id': 'leaves_2025_chunk_6'}, page_content='2. Emergency leave must be reported as soon as possible to the HR department.  \\n3. Approval is subject to workload and business requirements.  \\n4. Unapproved absences may result in disciplinary action.  \\n4. Public Holidays  \\nABC Corp follows nati onal and regional public holidays. The HR department will release an \\nannual holiday calendar at the beginning of each year.  \\n5. Policy Compliance  \\nNon -compliance with this policy may result in disciplinary action. Repeated unauthorized'),\n",
       " Document(metadata={'source': 'HR_data\\\\hrtech_HR_leaves_2025_policy_v1.pdf', 'page': 1, 'filename': 'hrtech_HR_leaves_2025_policy_v1', 'department': 'HR', 'version': 'v1', 'keywords': ['Policy', 'Compliance', 'Disciplinary', 'Absences', 'Termination'], 'summary': 'Non-compliance with the policy may result in disciplinary action, including warnings, salary deductions, or termination, especially for repeated unauthorized absences.', 'chunk_id': 'leaves_2025_chunk_7'}, page_content='5. Policy Compliance  \\nNon -compliance with this policy may result in disciplinary action. Repeated unauthorized \\nabsences may lead to warnings, salary deductions, or termination.'),\n",
       " Document(metadata={'source': 'HR_data\\\\hrtech_HR_remote_work_policy_v1.pdf', 'page': 0, 'filename': 'hrtech_HR_remote_work_policy_v1', 'department': 'HR', 'version': 'v1', 'keywords': ['Remote Work', 'Policy', 'ABC Corp', 'Flexibility', 'Productivity'], 'summary': \"ABC Corp's Remote Work Policy aims to provide guidelines for remote employees, promoting work-life balance and productivity while maintaining security and performance monitoring. The policy outlines eligibility, expectations, and measures for remote work arrangements.\", 'chunk_id': 'remote_work_chunk_1'}, page_content='ABC Corp Remote Work Policy  \\n**Company Name:** ABC Corp  \\n**Policy Name:** Remote Work Policy  \\n**Effective Date:** [DD/MM/YYYY]  \\n**Version:** 1.0  \\n1. Purpose  \\nThe purpose of this policy is to provide clear guidelines for employees who work remotely. \\nABC Corp supports remote work as a flexible arrangement that enhances work -life balance \\nwhile maintaining productivity. This policy outlines eligibility, expectations, security \\nmeasures, and performance monitoring for remote employees.'),\n",
       " Document(metadata={'source': 'HR_data\\\\hrtech_HR_remote_work_policy_v1.pdf', 'page': 0, 'filename': 'hrtech_HR_remote_work_policy_v1', 'department': 'HR', 'version': 'v1', 'keywords': ['remote work', 'eligibility', 'productivity', 'performance monitoring', 'managerial discretion'], 'summary': 'ABC Corp offers remote work options to eligible employees whose job responsibilities can be performed offsite without affecting productivity, with eligibility determined by job nature, individual performance, and managerial discretion.', 'chunk_id': 'remote_work_chunk_2'}, page_content='measures, and performance monitoring for remote employees.  \\n2. Eligibility  \\nRemote work is  available to employees whose job responsibilities can be performed offsite \\nwithout affecting productivity. Eligibility is determined based on the nature of the job, \\nindividual performance, and managerial discretion.  \\nEligible employees must:  \\n1. Have comple ted at least 6 months of employment at ABC Corp.  \\n2. Maintain a satisfactory performance record.'),\n",
       " Document(metadata={'source': 'HR_data\\\\hrtech_HR_remote_work_policy_v1.pdf', 'page': 0, 'filename': 'hrtech_HR_remote_work_policy_v1', 'department': 'HR', 'version': 'v1', 'keywords': ['Remote Work', 'Employee Eligibility', 'Performance Record', 'Work Hours', 'Productivity'], 'summary': 'To be eligible for remote work at ABC Corp, employees must have completed at least 6 months of employment, maintain a satisfactory performance record, and have a dedicated workspace, while also adhering to standard company working hours and being available during agreed-upon hours.', 'chunk_id': 'remote_work_chunk_3'}, page_content='Eligible employees must:  \\n1. Have comple ted at least 6 months of employment at ABC Corp.  \\n2. Maintain a satisfactory performance record.  \\n3. Have a dedicated workspace that ensures productivity and security.  \\n3. Work Hours & Availability  \\nRemote employees are expected to adhere to standard company w orking hours unless \\notherwise approved. Core working hours are from 9:00 AM to 5:00 PM, with flexibility as \\nneeded.  \\nEmployees must:  \\n1. Be available during agreed -upon working hours.'),\n",
       " Document(metadata={'source': 'HR_data\\\\hrtech_HR_remote_work_policy_v1.pdf', 'page': 0, 'filename': 'hrtech_HR_remote_work_policy_v1', 'department': 'HR', 'version': 'v1', 'keywords': ['Remote Work', 'Communication', 'Collaboration', 'Scheduling', 'Productivity'], 'summary': 'Employees must be available during agreed-upon working hours, attend scheduled meetings, and use company-approved tools for effective communication and collaboration to ensure remote work success.', 'chunk_id': 'remote_work_chunk_4'}, page_content='needed.  \\nEmployees must:  \\n1. Be available during agreed -upon working hours.  \\n2. Attend scheduled meetings and respond to emails promptly.  \\n3. Notify man agers in advance if they need to adjust work schedules.  \\n4. Communication & Collaboration  \\nEffective communication is essential for remote work success. Employees must use \\ncompany -approved tools to stay connected with teams.  \\nApproved communication tools:'),\n",
       " Document(metadata={'source': 'HR_data\\\\hrtech_HR_remote_work_policy_v1.pdf', 'page': 1, 'filename': 'hrtech_HR_remote_work_policy_v1', 'department': 'HR', 'version': 'v1', 'keywords': ['Remote Work', 'Communication', 'Collaboration', 'Security', 'Productivity'], 'summary': 'The content discusses various tools and platforms used for remote work, including email, instant messaging, virtual meetings, and project management tools, as well as the importance of data security and confidentiality in a remote work setup.', 'chunk_id': 'remote_work_chunk_5'}, page_content='1. Email - Official communication and document sharing.  \\n2. Slack/Microsoft Teams - Instant messaging and team collaboration.  \\n3. Zoom/Google Meet - Virtual meetings and video conferencing.  \\n4. Project Management Tools (Trello, Asana) - Task tracking and collabo ration.  \\n5. Data Security & Confidentiality  \\nTo protect company information, remote employees must follow strict security guidelines.  \\nSecurity measures include:'),\n",
       " Document(metadata={'source': 'HR_data\\\\hrtech_HR_remote_work_policy_v1.pdf', 'page': 1, 'filename': 'hrtech_HR_remote_work_policy_v1', 'department': 'HR', 'version': 'v1', 'keywords': ['Security', 'VPN', 'Remote Work', 'Data Protection', 'Company Information'], 'summary': 'Remote employees must follow strict security guidelines to protect company information, including using a company-approved VPN, avoiding public Wi-Fi, and storing files on approved cloud storage platforms. This is to ensure the security and integrity of company data.', 'chunk_id': 'remote_work_chunk_6'}, page_content='To protect company information, remote employees must follow strict security guidelines.  \\nSecurity measures include:  \\n1. Using a company -approved VPN for secure access to internal systems.  \\n2. Avoiding the use of public Wi -Fi networks for work -related activities.  \\n3. Storing company files only on approved cloud storage platforms.  \\n4. Keeping work devices locked and secured when not in use.  \\n6. Performance Monitoring'),\n",
       " Document(metadata={'source': 'HR_data\\\\hrtech_HR_remote_work_policy_v1.pdf', 'page': 1, 'filename': 'hrtech_HR_remote_work_policy_v1', 'department': 'HR', 'version': 'v1', 'keywords': ['Remote Work', 'Performance Monitoring', 'Security', 'Productivity', 'Communication'], 'summary': 'The remote work policy emphasizes the importance of security, performance monitoring, and maintaining productivity, with managers conducting regular check-ins and progress reports to ensure goals are met and communication is maintained.', 'chunk_id': 'remote_work_chunk_7'}, page_content='4. Keeping work devices locked and secured when not in use.  \\n6. Performance Monitoring  \\nManagers will monitor remote work performance throug h regular check -ins, progress \\nreports, and measurable outcomes.  \\nPerformance expectations include:  \\n1. Meeting deadlines and project goals.  \\n2. Maintaining communication with team members and managers.  \\n3. Ensuring productivity remains consistent with in -offic e work.  \\n7. Equipment & Reimbursement'),\n",
       " Document(metadata={'source': 'HR_data\\\\hrtech_HR_remote_work_policy_v1.pdf', 'page': 1, 'filename': 'hrtech_HR_remote_work_policy_v1', 'department': 'HR', 'version': 'v1', 'keywords': ['remote work', 'productivity', 'equipment', 'reimbursement', 'company policy'], 'summary': 'The company provides necessary equipment for remote work and has reimbursement policies in place for home office setups and internet costs, while emphasizing the importance of consistent productivity.', 'chunk_id': 'remote_work_chunk_8'}, page_content='3. Ensuring productivity remains consistent with in -offic e work.  \\n7. Equipment & Reimbursement  \\nEmployees may be provided with necessary equipment for remote work, including laptops, \\nheadsets, and external monitors.  \\nReimbursement policies:  \\n1. Employees can claim expenses for home office setups with prior approval.  \\n2. Internet costs may be partially reimbursed based on company policy.  \\n3. Any damage or loss of company -provided equipment must be reported immediately.'),\n",
       " Document(metadata={'source': 'HR_data\\\\hrtech_HR_remote_work_policy_v1.pdf', 'page': 1, 'filename': 'hrtech_HR_remote_work_policy_v1', 'department': 'HR', 'version': 'v1', 'keywords': ['equipment', 'health', 'safety', 'remote', 'ergonomic'], 'summary': 'Remote employees must report any damage or loss of company-provided equipment and ensure a safe and ergonomic work environment, adhering to health and safety guidelines.', 'chunk_id': 'remote_work_chunk_9'}, page_content='3. Any damage or loss of company -provided equipment must be reported immediately.  \\n8. Health & Safety  \\nRemote employees must ensure a safe and ergonomic work environment.  \\nGuidelines:'),\n",
       " Document(metadata={'source': 'HR_data\\\\hrtech_HR_remote_work_policy_v1.pdf', 'page': 2, 'filename': 'hrtech_HR_remote_work_policy_v1', 'department': 'HR', 'version': 'v1', 'keywords': ['Remote Work', 'Ergonomic Furniture', 'Productivity', 'Policy Compliance', 'Workplace Safety'], 'summary': 'The Remote Work Policy outlines guidelines for maintaining a safe and productive workspace, including proper lighting and ventilation, ergonomic furniture, and regular breaks, with consequences for non-compliance and a requirement for employee acknowledgment.', 'chunk_id': 'remote_work_chunk_10'}, page_content='1. Maintain proper lighting and ventilation in the workspace.  \\n2. Use ergonomic furniture to avoid strain and injuries.  \\n3. Take regular breaks to prevent fatigue and improve productivity.  \\n9. Policy Compliance  \\nNon -compliance with this policy may result in the revocation of remote work privileges. \\nRepeated violations may lead to disciplinary action.  \\n10. Acknowledgment  \\nEmployees must acknowledge that they have read and understood the Remote Work Policy.'),\n",
       " Document(metadata={'source': 'HR_data\\\\hrtech_HR_remote_work_policy_v1.pdf', 'page': 2, 'filename': 'hrtech_HR_remote_work_policy_v1', 'department': 'HR', 'version': 'v1', 'keywords': ['Remote Work Policy', 'Acknowledgment', 'Employees', 'Guidelines', 'Expectations'], 'summary': 'Employees must acknowledge that they have read and understood the Remote Work Policy, agreeing to adhere to all guidelines and expectations.', 'chunk_id': 'remote_work_chunk_11'}, page_content='10. Acknowledgment  \\nEmployees must acknowledge that they have read and understood the Remote Work Policy. \\nThis acknowledgment ensures that employees agree to adhere t o all guidelines and \\nexpectations.')]"
      ]
     },
     "execution_count": 21,
     "metadata": {},
     "output_type": "execute_result"
    }
   ],
   "source": [
    "chunks"
   ]
  },
  {
   "cell_type": "code",
   "execution_count": 22,
   "metadata": {},
   "outputs": [],
   "source": [
    "embeddings = HuggingFaceEmbeddings(model_name=\"sentence-transformers/all-mpnet-base-v2\")"
   ]
  },
  {
   "cell_type": "code",
   "execution_count": 24,
   "metadata": {},
   "outputs": [],
   "source": [
    "pc = Pinecone(api_key=os.environ.get(\"PINECONE_API_KEY\"))\n",
    "\n",
    "index_name = \"metadatafiltering\"  # change if desired\n",
    "\n",
    "existing_indexes = [index_info[\"name\"] for index_info in pc.list_indexes()]\n",
    "\n",
    "if index_name not in existing_indexes:\n",
    "    pc.create_index(\n",
    "        name=index_name,\n",
    "        dimension=768,\n",
    "        metric=\"cosine\",\n",
    "        spec=ServerlessSpec(cloud=\"aws\", region=\"us-east-1\"),\n",
    "    )\n",
    "\n",
    "index = pc.Index(index_name)\n",
    "vector_store = PineconeVectorStore(index=index, embedding=embeddings)"
   ]
  },
  {
   "cell_type": "markdown",
   "metadata": {},
   "source": [
    "Old chhunks removal --> this should be done first before adding new"
   ]
  },
  {
   "cell_type": "code",
   "execution_count": 25,
   "metadata": {},
   "outputs": [
    {
     "data": {
      "text/plain": [
       "['code_of_coduct_chunk_1',\n",
       " 'code_of_coduct_chunk_2',\n",
       " 'code_of_coduct_chunk_3',\n",
       " 'code_of_coduct_chunk_4',\n",
       " 'code_of_coduct_chunk_5',\n",
       " 'code_of_coduct_chunk_6',\n",
       " 'code_of_coduct_chunk_7',\n",
       " 'code_of_coduct_chunk_8',\n",
       " 'leaves_2025_chunk_1',\n",
       " 'leaves_2025_chunk_2',\n",
       " 'leaves_2025_chunk_3',\n",
       " 'leaves_2025_chunk_4',\n",
       " 'leaves_2025_chunk_5',\n",
       " 'leaves_2025_chunk_6',\n",
       " 'leaves_2025_chunk_7',\n",
       " 'remote_work_chunk_1',\n",
       " 'remote_work_chunk_2',\n",
       " 'remote_work_chunk_3',\n",
       " 'remote_work_chunk_4',\n",
       " 'remote_work_chunk_5',\n",
       " 'remote_work_chunk_6',\n",
       " 'remote_work_chunk_7',\n",
       " 'remote_work_chunk_8',\n",
       " 'remote_work_chunk_9',\n",
       " 'remote_work_chunk_10',\n",
       " 'remote_work_chunk_11']"
      ]
     },
     "execution_count": 25,
     "metadata": {},
     "output_type": "execute_result"
    }
   ],
   "source": [
    "ids = [chunk.metadata['chunk_id'] for chunk in chunks]\n",
    "ids"
   ]
  },
  {
   "cell_type": "code",
   "execution_count": 26,
   "metadata": {},
   "outputs": [
    {
     "data": {
      "text/plain": [
       "['code_of_coduct_chunk_1',\n",
       " 'code_of_coduct_chunk_2',\n",
       " 'code_of_coduct_chunk_3',\n",
       " 'code_of_coduct_chunk_4',\n",
       " 'code_of_coduct_chunk_5',\n",
       " 'code_of_coduct_chunk_6',\n",
       " 'code_of_coduct_chunk_7',\n",
       " 'code_of_coduct_chunk_8',\n",
       " 'leaves_2025_chunk_1',\n",
       " 'leaves_2025_chunk_2',\n",
       " 'leaves_2025_chunk_3',\n",
       " 'leaves_2025_chunk_4',\n",
       " 'leaves_2025_chunk_5',\n",
       " 'leaves_2025_chunk_6',\n",
       " 'leaves_2025_chunk_7',\n",
       " 'remote_work_chunk_1',\n",
       " 'remote_work_chunk_2',\n",
       " 'remote_work_chunk_3',\n",
       " 'remote_work_chunk_4',\n",
       " 'remote_work_chunk_5',\n",
       " 'remote_work_chunk_6',\n",
       " 'remote_work_chunk_7',\n",
       " 'remote_work_chunk_8',\n",
       " 'remote_work_chunk_9',\n",
       " 'remote_work_chunk_10',\n",
       " 'remote_work_chunk_11']"
      ]
     },
     "execution_count": 26,
     "metadata": {},
     "output_type": "execute_result"
    }
   ],
   "source": [
    "vector_store.add_documents(documents=chunks, ids=ids)"
   ]
  },
  {
   "cell_type": "code",
   "execution_count": 40,
   "metadata": {},
   "outputs": [],
   "source": [
    "ids = [chunk.metadata['chunk_id'] for chunk in chunks]"
   ]
  },
  {
   "cell_type": "code",
   "execution_count": 43,
   "metadata": {},
   "outputs": [],
   "source": [
    "old_policy_filter = {\n",
    "    \"filename\": \"hrtech_HR_remote_work_policy_v1\",  # Ensure this is the previous version\n",
    "    \"department\": \"HR\"\n",
    "}\n",
    "\n",
    "# Query Pinecone for old policy chunks\n",
    "old_chunks = vector_store.similarity_search(\"\", k=100, filter=old_policy_filter)\n",
    "\n",
    "# Extract chunk IDs\n",
    "old_chunks_ids = [chunk.metadata['chunk_id'] for chunk in old_chunks]"
   ]
  },
  {
   "cell_type": "code",
   "execution_count": 44,
   "metadata": {},
   "outputs": [
    {
     "data": {
      "text/plain": [
       "['remote_work_chunk_1',\n",
       " 'remote_work_chunk_11',\n",
       " 'remote_work_chunk_10',\n",
       " 'remote_work_chunk_6',\n",
       " 'remote_work_chunk_9',\n",
       " 'remote_work_chunk_7',\n",
       " 'remote_work_chunk_3',\n",
       " 'remote_work_chunk_5',\n",
       " 'remote_work_chunk_2',\n",
       " 'remote_work_chunk_4',\n",
       " 'remote_work_chunk_8']"
      ]
     },
     "execution_count": 44,
     "metadata": {},
     "output_type": "execute_result"
    }
   ],
   "source": [
    "old_chunks_ids"
   ]
  },
  {
   "cell_type": "code",
   "execution_count": 45,
   "metadata": {},
   "outputs": [],
   "source": [
    "vector_store.delete(ids=old_chunks_ids)"
   ]
  },
  {
   "cell_type": "code",
   "execution_count": null,
   "metadata": {},
   "outputs": [],
   "source": [
    "vector_store.add_documents(documents=chunks, ids=ids)"
   ]
  },
  {
   "cell_type": "markdown",
   "metadata": {},
   "source": [
    "New chunks addition into the vectorstore"
   ]
  },
  {
   "cell_type": "code",
   "execution_count": 46,
   "metadata": {},
   "outputs": [
    {
     "data": {
      "text/plain": [
       "[Document(metadata={'source': 'HR_data/hrtech_HR_remote_work_policy_v2.pdf', 'page': 0}, page_content='ABC Corp Remote Work Policy  \\nCompany Name:  ABC Corp  \\nPolicy Name:  Remote Work Policy  \\nEffective Date:  [DD/MM/YYYY]  \\nVersion:  2.0 \\n \\n1. Purpose  \\nABC Corp is committed to providing a flexible and productive work environment by \\nsupporting remote work arrangements. This policy establishes clear expectations regarding \\neligibility, communication, security, performance, and compliance for employees working \\nremotely.  \\n \\n2. Eligibility  \\nRemote work eligibility is determined by job function, individual performance, and \\nmanagerial discretion. Employees must meet the following crite ria to qualify:  \\n1. Completion of at least six months  of employment with satisfactory performance.  \\n2. A job role that permits remote execution without compromising productivity.  \\n3. A dedicated workspace  that meets security and effi ciency standards.  \\n4. Reliable internet connectivity  to ensure seamless communication.  \\n \\n3. Work Hours & Availability  \\nRemote employees must adhere to company work schedules while maintaining flexibility.  \\nStandard Guidelines:  \\n\\uf0b7 Core working hours: 9:00 AM – 5:00 PM  (subject to approval by management).  \\n\\uf0b7 Employees must be accessible  during agreed working hours.  \\n\\uf0b7 All schedule adjustments require prior managerial approval . \\n\\uf0b7 Prompt attendance in virtual meetings and timely responses to e mails/messages are \\nexpected.  \\n \\n4. Communication & Collaboration  \\nEffective communication is vital for remote teams. Employees must utilize approved \\ncommunication tools  to maintain team connectivity and efficiency:  '),\n",
       " Document(metadata={'source': 'HR_data/hrtech_HR_remote_work_policy_v2.pdf', 'page': 1}, page_content='\\uf0b7 Email  – Official correspondence and document sharing.  \\n\\uf0b7 Slack/Microsoft Teams  – Instant messaging and team collaboration.  \\n\\uf0b7 Zoom/Google Meet  – Virtual meetings and video conferencing.  \\n\\uf0b7 Project Management Tools (Trello, Asana)  – Task tracking and progress \\nmonitoring.  \\nBest Practices:  \\n\\uf0b7 Maintain a responsive approach  to team interactions.  \\n\\uf0b7 Use video conferencing for critical discussions.  \\n\\uf0b7 Ensure clarity in written communication to minimize misunderstandings.  \\n \\n5. Data Security & Confidentia lity \\nSecurity and confidentiality are paramount in remote work environments. Employees must \\ncomply with the following security measures:  \\n\\uf0b7 VPN Usage:  All remote access must be conducted via company -approved VPN.  \\n\\uf0b7 Secure Networks:  Public Wi -Fi is strictly proh ibited for work -related activities \\nunless using a company -provided security protocol.  \\n\\uf0b7 Data Storage:  Store company data exclusively on approved cloud storage  (e.g., \\nOneDrive, Google Drive).  \\n\\uf0b7 Device Security:  Lock and secure work devices when not in use.  \\n \\n6. Performance Monitoring  \\nManagers will assess remote employees’ performance through structured monitoring \\nprocesses, including:  \\n\\uf0b7 Regular check -ins and status updates.  \\n\\uf0b7 Defined performance metrics  and goal tracking.  \\n\\uf0b7 Evaluating  communication consistency  and adherence to deadlines.  \\n\\uf0b7 Ensuring output quality remains on par with in -office expectations.  \\n \\n7. Equipment & Reimbursement  \\nABC Corp will provide or reimburse employees for essential remote w ork equipment.  \\nPolicy Guidelines:  \\n\\uf0b7 Standard provisions include laptops, headsets, and external monitors  (subject to \\nrole requirements).  '),\n",
       " Document(metadata={'source': 'HR_data/hrtech_HR_remote_work_policy_v2.pdf', 'page': 2}, page_content='\\uf0b7 Employees may request reimbursement for home office setup with prior managerial \\napproval.  \\n\\uf0b7 Partial internet cost reimbursement  is available based on company policy.  \\n\\uf0b7 Loss or damage  of company -provided equipment must be reported immediately.  \\n \\n8. Health & Safety  \\nEmployees are responsible for creating a safe and ergonomic  remote workspace. The \\nfollowing guidelines apply:  \\n\\uf0b7 Maintain adequate lighting and ventilation  in the workspace.  \\n\\uf0b7 Use ergonomic furniture  to minimize strain and injuries.  \\n\\uf0b7 Take regular breaks  to improve productivity and reduce fatigue.  \\n\\uf0b7 Follow work -life balance strategies  to maintain well -being.  \\n \\n9. Policy Compliance  \\nFailure to comply with remote work guidelines may result in disciplinary action, including \\nrevocation of remote work privileges . Repeated violati ons may lead to further corrective \\nmeasures.  \\n \\n10. Acknowledgment  \\nEmployees must acknowledge that they have read and understood the Remote Work Policy. \\nThis acknowledgment signifies agreement to adhere to all stipulated g uidelines and \\nexpectations.  \\n \\nABC Corp Management  \\n ')]"
      ]
     },
     "execution_count": 46,
     "metadata": {},
     "output_type": "execute_result"
    }
   ],
   "source": [
    "# Update the new documents\n",
    "loader = PyPDFLoader(file_path=\"HR_data/hrtech_HR_remote_work_policy_v2.pdf\")\n",
    "new_documents = loader.load()\n",
    "new_documents"
   ]
  },
  {
   "cell_type": "code",
   "execution_count": 47,
   "metadata": {},
   "outputs": [],
   "source": [
    "def get_metadata(document):\n",
    "    file_name = document.metadata['source'].split(\".pdf\")[0].split('/')[1]\n",
    "    version = file_name.split(\"_\")[-1]\n",
    "    department = file_name.split(\"_\")[1]\n",
    "    return file_name,version,department"
   ]
  },
  {
   "cell_type": "code",
   "execution_count": 48,
   "metadata": {},
   "outputs": [],
   "source": [
    "for doc in new_documents:\n",
    "    filename,version,department = get_metadata(doc)\n",
    "    doc.metadata['filename'] = filename\n",
    "    doc.metadata['department'] = department\n",
    "    doc.metadata['version'] = version"
   ]
  },
  {
   "cell_type": "code",
   "execution_count": 49,
   "metadata": {},
   "outputs": [
    {
     "data": {
      "text/plain": [
       "[Document(metadata={'source': 'HR_data/hrtech_HR_remote_work_policy_v2.pdf', 'page': 0, 'filename': 'hrtech_HR_remote_work_policy_v2', 'department': 'HR', 'version': 'v2'}, page_content='ABC Corp Remote Work Policy  \\nCompany Name:  ABC Corp  \\nPolicy Name:  Remote Work Policy  \\nEffective Date:  [DD/MM/YYYY]  \\nVersion:  2.0 \\n \\n1. Purpose  \\nABC Corp is committed to providing a flexible and productive work environment by \\nsupporting remote work arrangements. This policy establishes clear expectations regarding \\neligibility, communication, security, performance, and compliance for employees working \\nremotely.  \\n \\n2. Eligibility  \\nRemote work eligibility is determined by job function, individual performance, and \\nmanagerial discretion. Employees must meet the following crite ria to qualify:  \\n1. Completion of at least six months  of employment with satisfactory performance.  \\n2. A job role that permits remote execution without compromising productivity.  \\n3. A dedicated workspace  that meets security and effi ciency standards.  \\n4. Reliable internet connectivity  to ensure seamless communication.  \\n \\n3. Work Hours & Availability  \\nRemote employees must adhere to company work schedules while maintaining flexibility.  \\nStandard Guidelines:  \\n\\uf0b7 Core working hours: 9:00 AM – 5:00 PM  (subject to approval by management).  \\n\\uf0b7 Employees must be accessible  during agreed working hours.  \\n\\uf0b7 All schedule adjustments require prior managerial approval . \\n\\uf0b7 Prompt attendance in virtual meetings and timely responses to e mails/messages are \\nexpected.  \\n \\n4. Communication & Collaboration  \\nEffective communication is vital for remote teams. Employees must utilize approved \\ncommunication tools  to maintain team connectivity and efficiency:  '),\n",
       " Document(metadata={'source': 'HR_data/hrtech_HR_remote_work_policy_v2.pdf', 'page': 1, 'filename': 'hrtech_HR_remote_work_policy_v2', 'department': 'HR', 'version': 'v2'}, page_content='\\uf0b7 Email  – Official correspondence and document sharing.  \\n\\uf0b7 Slack/Microsoft Teams  – Instant messaging and team collaboration.  \\n\\uf0b7 Zoom/Google Meet  – Virtual meetings and video conferencing.  \\n\\uf0b7 Project Management Tools (Trello, Asana)  – Task tracking and progress \\nmonitoring.  \\nBest Practices:  \\n\\uf0b7 Maintain a responsive approach  to team interactions.  \\n\\uf0b7 Use video conferencing for critical discussions.  \\n\\uf0b7 Ensure clarity in written communication to minimize misunderstandings.  \\n \\n5. Data Security & Confidentia lity \\nSecurity and confidentiality are paramount in remote work environments. Employees must \\ncomply with the following security measures:  \\n\\uf0b7 VPN Usage:  All remote access must be conducted via company -approved VPN.  \\n\\uf0b7 Secure Networks:  Public Wi -Fi is strictly proh ibited for work -related activities \\nunless using a company -provided security protocol.  \\n\\uf0b7 Data Storage:  Store company data exclusively on approved cloud storage  (e.g., \\nOneDrive, Google Drive).  \\n\\uf0b7 Device Security:  Lock and secure work devices when not in use.  \\n \\n6. Performance Monitoring  \\nManagers will assess remote employees’ performance through structured monitoring \\nprocesses, including:  \\n\\uf0b7 Regular check -ins and status updates.  \\n\\uf0b7 Defined performance metrics  and goal tracking.  \\n\\uf0b7 Evaluating  communication consistency  and adherence to deadlines.  \\n\\uf0b7 Ensuring output quality remains on par with in -office expectations.  \\n \\n7. Equipment & Reimbursement  \\nABC Corp will provide or reimburse employees for essential remote w ork equipment.  \\nPolicy Guidelines:  \\n\\uf0b7 Standard provisions include laptops, headsets, and external monitors  (subject to \\nrole requirements).  '),\n",
       " Document(metadata={'source': 'HR_data/hrtech_HR_remote_work_policy_v2.pdf', 'page': 2, 'filename': 'hrtech_HR_remote_work_policy_v2', 'department': 'HR', 'version': 'v2'}, page_content='\\uf0b7 Employees may request reimbursement for home office setup with prior managerial \\napproval.  \\n\\uf0b7 Partial internet cost reimbursement  is available based on company policy.  \\n\\uf0b7 Loss or damage  of company -provided equipment must be reported immediately.  \\n \\n8. Health & Safety  \\nEmployees are responsible for creating a safe and ergonomic  remote workspace. The \\nfollowing guidelines apply:  \\n\\uf0b7 Maintain adequate lighting and ventilation  in the workspace.  \\n\\uf0b7 Use ergonomic furniture  to minimize strain and injuries.  \\n\\uf0b7 Take regular breaks  to improve productivity and reduce fatigue.  \\n\\uf0b7 Follow work -life balance strategies  to maintain well -being.  \\n \\n9. Policy Compliance  \\nFailure to comply with remote work guidelines may result in disciplinary action, including \\nrevocation of remote work privileges . Repeated violati ons may lead to further corrective \\nmeasures.  \\n \\n10. Acknowledgment  \\nEmployees must acknowledge that they have read and understood the Remote Work Policy. \\nThis acknowledgment signifies agreement to adhere to all stipulated g uidelines and \\nexpectations.  \\n \\nABC Corp Management  \\n ')]"
      ]
     },
     "execution_count": 49,
     "metadata": {},
     "output_type": "execute_result"
    }
   ],
   "source": [
    "new_documents"
   ]
  },
  {
   "cell_type": "code",
   "execution_count": 51,
   "metadata": {},
   "outputs": [],
   "source": [
    "new_chunks = text_splitter.split_documents(documents=new_documents)"
   ]
  },
  {
   "cell_type": "code",
   "execution_count": 52,
   "metadata": {},
   "outputs": [],
   "source": [
    "insert_metadata(new_chunks)"
   ]
  },
  {
   "cell_type": "code",
   "execution_count": 53,
   "metadata": {},
   "outputs": [
    {
     "data": {
      "text/plain": [
       "[Document(metadata={'source': 'HR_data/hrtech_HR_remote_work_policy_v2.pdf', 'page': 0, 'filename': 'hrtech_HR_remote_work_policy_v2', 'department': 'HR', 'version': 'v2', 'keywords': ['Remote Work', 'Policy', 'ABC Corp', 'Flexibility', 'Productivity'], 'summary': \"ABC Corp's Remote Work Policy aims to provide a flexible work environment by establishing clear expectations for remote work arrangements, including eligibility, communication, and performance. The policy supports remote work to increase productivity.\", 'chunk_id': 'remote_work_chunk_1'}, page_content='ABC Corp Remote Work Policy  \\nCompany Name:  ABC Corp  \\nPolicy Name:  Remote Work Policy  \\nEffective Date:  [DD/MM/YYYY]  \\nVersion:  2.0 \\n \\n1. Purpose  \\nABC Corp is committed to providing a flexible and productive work environment by \\nsupporting remote work arrangements. This policy establishes clear expectations regarding \\neligibility, communication, security, performance, and compliance for employees working \\nremotely.  \\n \\n2. Eligibility'),\n",
       " Document(metadata={'source': 'HR_data/hrtech_HR_remote_work_policy_v2.pdf', 'page': 0, 'filename': 'hrtech_HR_remote_work_policy_v2', 'department': 'HR', 'version': 'v2', 'keywords': ['remote work', 'eligibility', 'job function', 'performance', 'compliance'], 'summary': 'Remote work eligibility is determined by job function, individual performance, and managerial discretion, with employees required to meet specific criteria such as six months of employment and a suitable job role.', 'chunk_id': 'remote_work_chunk_2'}, page_content='eligibility, communication, security, performance, and compliance for employees working \\nremotely.  \\n \\n2. Eligibility  \\nRemote work eligibility is determined by job function, individual performance, and \\nmanagerial discretion. Employees must meet the following crite ria to qualify:  \\n1. Completion of at least six months  of employment with satisfactory performance.  \\n2. A job role that permits remote execution without compromising productivity.'),\n",
       " Document(metadata={'source': 'HR_data/hrtech_HR_remote_work_policy_v2.pdf', 'page': 0, 'filename': 'hrtech_HR_remote_work_policy_v2', 'department': 'HR', 'version': 'v2', 'keywords': ['Remote Work', 'Productivity', 'Workspace', 'Internet Connectivity', 'Work Hours'], 'summary': 'The content outlines the requirements for remote work, including a dedicated workspace, reliable internet connectivity, and adherence to company work schedules with flexibility, while maintaining productivity and security standards.', 'chunk_id': 'remote_work_chunk_3'}, page_content='2. A job role that permits remote execution without compromising productivity.  \\n3. A dedicated workspace  that meets security and effi ciency standards.  \\n4. Reliable internet connectivity  to ensure seamless communication.  \\n \\n3. Work Hours & Availability  \\nRemote employees must adhere to company work schedules while maintaining flexibility.  \\nStandard Guidelines:  \\n\\uf0b7 Core working hours: 9:00 AM – 5:00 PM  (subject to approval by management).'),\n",
       " Document(metadata={'source': 'HR_data/hrtech_HR_remote_work_policy_v2.pdf', 'page': 0, 'filename': 'hrtech_HR_remote_work_policy_v2', 'department': 'HR', 'version': 'v2', 'keywords': ['Remote Work', 'Working Hours', 'Communication', 'Collaboration', 'Management'], 'summary': 'The standard guidelines outline the core working hours, accessibility, and communication expectations for remote employees, emphasizing the importance of effective communication and collaboration. Employees are required to adhere to these guidelines, with adjustments subject to managerial approval.', 'chunk_id': 'remote_work_chunk_4'}, page_content='Standard Guidelines:  \\n\\uf0b7 Core working hours: 9:00 AM – 5:00 PM  (subject to approval by management).  \\n\\uf0b7 Employees must be accessible  during agreed working hours.  \\n\\uf0b7 All schedule adjustments require prior managerial approval . \\n\\uf0b7 Prompt attendance in virtual meetings and timely responses to e mails/messages are \\nexpected.  \\n \\n4. Communication & Collaboration  \\nEffective communication is vital for remote teams. Employees must utilize approved'),\n",
       " Document(metadata={'source': 'HR_data/hrtech_HR_remote_work_policy_v2.pdf', 'page': 0, 'filename': 'hrtech_HR_remote_work_policy_v2', 'department': 'HR', 'version': 'v2', 'keywords': ['Communication', 'Collaboration', 'Remote Teams', 'Connectivity', 'Efficiency'], 'summary': 'Effective communication is vital for remote teams, and employees must use approved communication tools to maintain team connectivity and efficiency. This is crucial for successful collaboration and teamwork.', 'chunk_id': 'remote_work_chunk_5'}, page_content='expected.  \\n \\n4. Communication & Collaboration  \\nEffective communication is vital for remote teams. Employees must utilize approved \\ncommunication tools  to maintain team connectivity and efficiency:'),\n",
       " Document(metadata={'source': 'HR_data/hrtech_HR_remote_work_policy_v2.pdf', 'page': 1, 'filename': 'hrtech_HR_remote_work_policy_v2', 'department': 'HR', 'version': 'v2', 'keywords': ['Communication', 'Collaboration', 'Email', 'Video Conferencing', 'Project Management'], 'summary': 'The content discusses various tools and best practices for effective team communication and collaboration, including email, instant messaging, video conferencing, and project management. It emphasizes the importance of maintaining a responsive approach, using video conferencing for critical discussions, and ensuring clarity in written communication.', 'chunk_id': 'remote_work_chunk_6'}, page_content='\\uf0b7 Email  – Official correspondence and document sharing.  \\n\\uf0b7 Slack/Microsoft Teams  – Instant messaging and team collaboration.  \\n\\uf0b7 Zoom/Google Meet  – Virtual meetings and video conferencing.  \\n\\uf0b7 Project Management Tools (Trello, Asana)  – Task tracking and progress \\nmonitoring.  \\nBest Practices:  \\n\\uf0b7 Maintain a responsive approach  to team interactions.  \\n\\uf0b7 Use video conferencing for critical discussions.  \\n\\uf0b7 Ensure clarity in written communication to minimize misunderstandings.'),\n",
       " Document(metadata={'source': 'HR_data/hrtech_HR_remote_work_policy_v2.pdf', 'page': 1, 'filename': 'hrtech_HR_remote_work_policy_v2', 'department': 'HR', 'version': 'v2', 'keywords': ['Remote Work', 'Video Conferencing', 'Data Security', 'VPN', 'Confidentiality'], 'summary': 'Remote work environments require secure communication and data protection measures, including video conferencing, clear written communication, and compliance with security protocols such as VPN usage and secure networks.', 'chunk_id': 'remote_work_chunk_7'}, page_content='\\uf0b7 Use video conferencing for critical discussions.  \\n\\uf0b7 Ensure clarity in written communication to minimize misunderstandings.  \\n \\n5. Data Security & Confidentia lity \\nSecurity and confidentiality are paramount in remote work environments. Employees must \\ncomply with the following security measures:  \\n\\uf0b7 VPN Usage:  All remote access must be conducted via company -approved VPN.  \\n\\uf0b7 Secure Networks:  Public Wi -Fi is strictly proh ibited for work -related activities'),\n",
       " Document(metadata={'source': 'HR_data/hrtech_HR_remote_work_policy_v2.pdf', 'page': 1, 'filename': 'hrtech_HR_remote_work_policy_v2', 'department': 'HR', 'version': 'v2', 'keywords': ['Network Security', 'Data Storage', 'Device Security', 'Performance Monitoring', 'Remote Work'], 'summary': 'The company has implemented security protocols for remote work, including secure networks, data storage, and device security, and will monitor employee performance through regular check-ins and status updates.', 'chunk_id': 'remote_work_chunk_8'}, page_content='\\uf0b7 Secure Networks:  Public Wi -Fi is strictly proh ibited for work -related activities \\nunless using a company -provided security protocol.  \\n\\uf0b7 Data Storage:  Store company data exclusively on approved cloud storage  (e.g., \\nOneDrive, Google Drive).  \\n\\uf0b7 Device Security:  Lock and secure work devices when not in use.  \\n \\n6. Performance Monitoring  \\nManagers will assess remote employees’ performance through structured monitoring \\nprocesses, including:  \\n\\uf0b7 Regular check -ins and status updates.'),\n",
       " Document(metadata={'source': 'HR_data/hrtech_HR_remote_work_policy_v2.pdf', 'page': 1, 'filename': 'hrtech_HR_remote_work_policy_v2', 'department': 'HR', 'version': 'v2', 'keywords': ['remote work', 'performance metrics', 'goal tracking', 'communication consistency', 'equipment reimbursement'], 'summary': \"ABC Corp will monitor remote employees' performance through regular check-ins and defined metrics, while also providing or reimbursing for essential remote work equipment, to ensure output quality meets in-office expectations.\", 'chunk_id': 'remote_work_chunk_9'}, page_content='Managers will assess remote employees’ performance through structured monitoring \\nprocesses, including:  \\n\\uf0b7 Regular check -ins and status updates.  \\n\\uf0b7 Defined performance metrics  and goal tracking.  \\n\\uf0b7 Evaluating  communication consistency  and adherence to deadlines.  \\n\\uf0b7 Ensuring output quality remains on par with in -office expectations.  \\n \\n7. Equipment & Reimbursement  \\nABC Corp will provide or reimburse employees for essential remote w ork equipment.  \\nPolicy Guidelines:'),\n",
       " Document(metadata={'source': 'HR_data/hrtech_HR_remote_work_policy_v2.pdf', 'page': 1, 'filename': 'hrtech_HR_remote_work_policy_v2', 'department': 'HR', 'version': 'v2', 'keywords': ['Equipment', 'Reimbursement', 'Remote Work', 'Laptops', 'Monitors'], 'summary': 'ABC Corp will provide or reimburse employees for essential remote work equipment, including laptops, headsets, and external monitors, subject to role requirements.', 'chunk_id': 'remote_work_chunk_10'}, page_content='7. Equipment & Reimbursement  \\nABC Corp will provide or reimburse employees for essential remote w ork equipment.  \\nPolicy Guidelines:  \\n\\uf0b7 Standard provisions include laptops, headsets, and external monitors  (subject to \\nrole requirements).'),\n",
       " Document(metadata={'source': 'HR_data/hrtech_HR_remote_work_policy_v2.pdf', 'page': 2, 'filename': 'hrtech_HR_remote_work_policy_v2', 'department': 'HR', 'version': 'v2', 'keywords': ['reimbursement', 'home office', 'internet cost', 'company policy', 'remote workspace'], 'summary': 'Employees can request reimbursement for home office setup and partial internet cost with managerial approval, and are responsible for creating a safe and ergonomic remote workspace with adequate lighting and ventilation.', 'chunk_id': 'remote_work_chunk_11'}, page_content='\\uf0b7 Employees may request reimbursement for home office setup with prior managerial \\napproval.  \\n\\uf0b7 Partial internet cost reimbursement  is available based on company policy.  \\n\\uf0b7 Loss or damage  of company -provided equipment must be reported immediately.  \\n \\n8. Health & Safety  \\nEmployees are responsible for creating a safe and ergonomic  remote workspace. The \\nfollowing guidelines apply:  \\n\\uf0b7 Maintain adequate lighting and ventilation  in the workspace.'),\n",
       " Document(metadata={'source': 'HR_data/hrtech_HR_remote_work_policy_v2.pdf', 'page': 2, 'filename': 'hrtech_HR_remote_work_policy_v2', 'department': 'HR', 'version': 'v2', 'keywords': ['remote work', 'ergonomic furniture', 'work-life balance', 'ventilation', 'productivity'], 'summary': 'The guidelines for remote work emphasize maintaining a healthy and productive workspace through adequate lighting and ventilation, ergonomic furniture, regular breaks, and work-life balance strategies to ensure well-being and compliance with company policies.', 'chunk_id': 'remote_work_chunk_12'}, page_content='following guidelines apply:  \\n\\uf0b7 Maintain adequate lighting and ventilation  in the workspace.  \\n\\uf0b7 Use ergonomic furniture  to minimize strain and injuries.  \\n\\uf0b7 Take regular breaks  to improve productivity and reduce fatigue.  \\n\\uf0b7 Follow work -life balance strategies  to maintain well -being.  \\n \\n9. Policy Compliance  \\nFailure to comply with remote work guidelines may result in disciplinary action, including'),\n",
       " Document(metadata={'source': 'HR_data/hrtech_HR_remote_work_policy_v2.pdf', 'page': 2, 'filename': 'hrtech_HR_remote_work_policy_v2', 'department': 'HR', 'version': 'v2', 'keywords': ['Remote Work Policy', 'Compliance', 'Disciplinary Action', 'Guidelines', 'Acknowledgment'], 'summary': \"ABC Corp's Remote Work Policy outlines the guidelines and expectations for remote work, with failure to comply potentially resulting in disciplinary action, and requires employees to acknowledge and agree to adhere to the policy.\", 'chunk_id': 'remote_work_chunk_13'}, page_content='9. Policy Compliance  \\nFailure to comply with remote work guidelines may result in disciplinary action, including \\nrevocation of remote work privileges . Repeated violati ons may lead to further corrective \\nmeasures.  \\n \\n10. Acknowledgment  \\nEmployees must acknowledge that they have read and understood the Remote Work Policy. \\nThis acknowledgment signifies agreement to adhere to all stipulated g uidelines and \\nexpectations.  \\n \\nABC Corp Management')]"
      ]
     },
     "execution_count": 53,
     "metadata": {},
     "output_type": "execute_result"
    }
   ],
   "source": [
    "new_chunks"
   ]
  },
  {
   "cell_type": "code",
   "execution_count": 54,
   "metadata": {},
   "outputs": [
    {
     "data": {
      "text/plain": [
       "['remote_work_chunk_1',\n",
       " 'remote_work_chunk_2',\n",
       " 'remote_work_chunk_3',\n",
       " 'remote_work_chunk_4',\n",
       " 'remote_work_chunk_5',\n",
       " 'remote_work_chunk_6',\n",
       " 'remote_work_chunk_7',\n",
       " 'remote_work_chunk_8',\n",
       " 'remote_work_chunk_9',\n",
       " 'remote_work_chunk_10',\n",
       " 'remote_work_chunk_11',\n",
       " 'remote_work_chunk_12',\n",
       " 'remote_work_chunk_13']"
      ]
     },
     "execution_count": 54,
     "metadata": {},
     "output_type": "execute_result"
    }
   ],
   "source": [
    "new_ids = [chunk.metadata['chunk_id'] for chunk in new_chunks]\n",
    "new_ids"
   ]
  },
  {
   "cell_type": "code",
   "execution_count": 55,
   "metadata": {},
   "outputs": [
    {
     "data": {
      "text/plain": [
       "['remote_work_chunk_1',\n",
       " 'remote_work_chunk_2',\n",
       " 'remote_work_chunk_3',\n",
       " 'remote_work_chunk_4',\n",
       " 'remote_work_chunk_5',\n",
       " 'remote_work_chunk_6',\n",
       " 'remote_work_chunk_7',\n",
       " 'remote_work_chunk_8',\n",
       " 'remote_work_chunk_9',\n",
       " 'remote_work_chunk_10',\n",
       " 'remote_work_chunk_11',\n",
       " 'remote_work_chunk_12',\n",
       " 'remote_work_chunk_13']"
      ]
     },
     "execution_count": 55,
     "metadata": {},
     "output_type": "execute_result"
    }
   ],
   "source": [
    "vector_store.add_documents(documents=new_chunks, ids=new_ids)"
   ]
  },
  {
   "cell_type": "code",
   "execution_count": null,
   "metadata": {},
   "outputs": [],
   "source": []
  }
 ],
 "metadata": {
  "kernelspec": {
   "display_name": "env_langchain_tutorial",
   "language": "python",
   "name": "python3"
  },
  "language_info": {
   "codemirror_mode": {
    "name": "ipython",
    "version": 3
   },
   "file_extension": ".py",
   "mimetype": "text/x-python",
   "name": "python",
   "nbconvert_exporter": "python",
   "pygments_lexer": "ipython3",
   "version": "3.10.16"
  }
 },
 "nbformat": 4,
 "nbformat_minor": 2
}
