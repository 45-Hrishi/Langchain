{
 "cells": [
  {
   "cell_type": "markdown",
   "metadata": {},
   "source": [
    "#### Example 1 : Simple RAG and its workflow"
   ]
  },
  {
   "cell_type": "code",
   "execution_count": 10,
   "metadata": {},
   "outputs": [
    {
     "data": {
      "text/plain": [
       "True"
      ]
     },
     "execution_count": 10,
     "metadata": {},
     "output_type": "execute_result"
    }
   ],
   "source": [
    "import langchain\n",
    "import os\n",
    "from dotenv import load_dotenv\n",
    "from langchain_community.document_loaders import TextLoader,WebBaseLoader\n",
    "from langchain.text_splitter import RecursiveCharacterTextSplitter\n",
    "from langchain_huggingface.embeddings import HuggingFaceEmbeddings\n",
    "from langchain.vectorstores import Chroma\n",
    "from langchain_groq import ChatGroq\n",
    "from langchain.prompts import ChatPromptTemplate\n",
    "from langchain import hub\n",
    "import bs4\n",
    "load_dotenv()"
   ]
  },
  {
   "cell_type": "code",
   "execution_count": 2,
   "metadata": {},
   "outputs": [],
   "source": [
    "# loading the env variables require\n",
    "os.environ[\"GROQ_API_KEY\"] = os.getenv(\"GROQ_API_KEY\")\n",
    "os.environ[\"HUGGINGFACEHUB_API_TOKEN\"] = os.getenv(\"HUGGINGFACEHUB_API_TOKEN\")"
   ]
  },
  {
   "cell_type": "markdown",
   "metadata": {},
   "source": [
    "##### 1. Loading of the data"
   ]
  },
  {
   "cell_type": "code",
   "execution_count": 3,
   "metadata": {},
   "outputs": [],
   "source": [
    "# TextLoader : creating loader object and loading the text\n",
    "text_loader = TextLoader(file_path=\"generative_ai.txt\")\n",
    "text = text_loader.load()"
   ]
  },
  {
   "cell_type": "code",
   "execution_count": 4,
   "metadata": {},
   "outputs": [],
   "source": [
    "# web path\n",
    "web_path = \"https://www.analyticsvidhya.com/blog/2024/09/email-marketing-with-genai-agents/\"\n",
    "\n",
    "# WebBasedLoader : loading the web page texts\n",
    "web_loader = WebBaseLoader(\n",
    "    web_paths=[web_path],\n",
    "    bs_kwargs={\n",
    "        \"parse_only\": bs4.SoupStrainer(class_=(\"common-style-py detail-page pt-4\",\"text-light-primary fs-32 fw-semibold\",\"content-box\"))}\n",
    "    )\n",
    "docs = []\n",
    "for doc in web_loader.lazy_load():\n",
    "    docs.append(doc)\n"
   ]
  },
  {
   "cell_type": "code",
   "execution_count": 7,
   "metadata": {},
   "outputs": [],
   "source": [
    "# print(docs[0].page_content)"
   ]
  },
  {
   "cell_type": "markdown",
   "metadata": {},
   "source": [
    "##### 2. Transforming data using text splitters"
   ]
  },
  {
   "cell_type": "markdown",
   "metadata": {},
   "source": [
    "RecursiveCharacterTextSplitter --> this splits the text by considering the heirarchical form of document, paragraph,lines,words. try to split the document such a way that the paragraph should not loose its meaning. the lines should be completely splited at the full stop not in between."
   ]
  },
  {
   "cell_type": "code",
   "execution_count": 8,
   "metadata": {},
   "outputs": [],
   "source": [
    "# RecursiveCharacterTexrSplitter --> chunking\n",
    "text_splitter = RecursiveCharacterTextSplitter(chunk_size=500,chunk_overlap=100)\n",
    "texts = text_splitter.split_documents(docs)"
   ]
  },
  {
   "cell_type": "markdown",
   "metadata": {},
   "source": [
    "##### 3. Generating the embeddings and store it in the vectorstore"
   ]
  },
  {
   "cell_type": "code",
   "execution_count": 9,
   "metadata": {},
   "outputs": [
    {
     "name": "stderr",
     "output_type": "stream",
     "text": [
      "c:\\Users\\admin\\anaconda3\\envs\\env_langchain_tutorial\\lib\\site-packages\\tqdm\\auto.py:21: TqdmWarning: IProgress not found. Please update jupyter and ipywidgets. See https://ipywidgets.readthedocs.io/en/stable/user_install.html\n",
      "  from .autonotebook import tqdm as notebook_tqdm\n"
     ]
    }
   ],
   "source": [
    "# embeddings model loading\n",
    "\n",
    "model_name = \"sentence-transformers/all-mpnet-base-v2\"\n",
    "model_kwargs = {\"device\": \"cpu\"}\n",
    "encode_kwargs = {\"normalize_embeddings\": True}\n",
    "embedding = HuggingFaceEmbeddings(\n",
    "    model_name=model_name,\n",
    "    model_kwargs=model_kwargs,\n",
    "    encode_kwargs=encode_kwargs\n",
    ")"
   ]
  },
  {
   "cell_type": "code",
   "execution_count": 8,
   "metadata": {},
   "outputs": [],
   "source": [
    "# storing the embeddings related to document into the vector database\n",
    "\n",
    "# creates vectorstore\n",
    "chroma_db = Chroma.from_documents(documents=texts,embedding=embedding) \n",
    "\n",
    "# query the database to get relevent documents from the chroma_db\n",
    "query = \"How agentic email system is different from the traditional email system ?\"\n",
    "results = chroma_db.similarity_search(query)"
   ]
  },
  {
   "cell_type": "code",
   "execution_count": 9,
   "metadata": {},
   "outputs": [
    {
     "data": {
      "text/plain": [
       "[Document(metadata={'source': 'https://www.analyticsvidhya.com/blog/2024/09/email-marketing-with-genai-agents/'}, page_content='Traditional Email System\\nLet’s understand the traditional email system first. Imagine you have a vast internet presence, which includes the organization’s website with multiple web pages, blogs, free downloadables, etc. And you are constantly pursuing expanding your online presence with webinars, online conferences, and access to free e-books and product trials. All of this results in a vast collection of email IDs. A generic traditional marketing system involves:'),\n",
       " Document(metadata={'source': 'https://www.analyticsvidhya.com/blog/2024/09/email-marketing-with-genai-agents/'}, page_content='Note: Even at this stage, you cannot call the system autonomous, as it still requires constant human intervention to ensure that the agents improve based on the performance of the emails sent.'),\n",
       " Document(metadata={'source': 'https://www.analyticsvidhya.com/blog/2024/09/email-marketing-with-genai-agents/'}, page_content='Q1. What are AI agents? A. AI agents help build an autonomous system. By using their capabilities to analyze data and make decisions, we can easily eliminate human intervention and improve efficiency in our work.  Q2. What is an agentic system in email marketing? A. An agentic system in email marketing uses AI agents to automate the planning, writing, editing, and sending of personalized emails based on customer behavior.  Q3. How is AI used in email marketing? A. AI enhances email marketing'),\n",
       " Document(metadata={'source': 'https://www.analyticsvidhya.com/blog/2024/09/email-marketing-with-genai-agents/'}, page_content='Table of ContentsIntroductionTraditional Email SystemWhat are AI Agents?Email Marketing Optimization Using GenAI AgentsStep 1: Planning the Agentic SystemStep 2: Creating an Agentic SystemStep 3: Performance Evaluation with Human InterventionStep 4: Canary Deployment and Feedback ImplementationConclusionFrequently Asked Questions\\nTraditional Email System')]"
      ]
     },
     "execution_count": 9,
     "metadata": {},
     "output_type": "execute_result"
    }
   ],
   "source": [
    "results"
   ]
  },
  {
   "cell_type": "code",
   "execution_count": 11,
   "metadata": {},
   "outputs": [],
   "source": [
    "extracted_text = \"\"\n",
    "for res in results:\n",
    "    extracted_text+=res.page_content"
   ]
  },
  {
   "cell_type": "markdown",
   "metadata": {},
   "source": [
    "##### 4. Pass the query + extracted_text to the LLM model"
   ]
  },
  {
   "cell_type": "code",
   "execution_count": 15,
   "metadata": {},
   "outputs": [],
   "source": [
    "# load the meta llama3 model with the help of groq inference engine\n",
    "model_id = \"llama-3.3-70b-versatile\"\n",
    "prompt_template = ChatPromptTemplate(\n",
    "    messages=[\n",
    "        ('system','You are a helpful assistant, who answers the questions related to Generative AI and its uses'),\n",
    "        ('user','{query}')\n",
    "    ]\n",
    "    )\n",
    "prompt = prompt_template.invoke(query)\n",
    "model = ChatGroq(\n",
    "    model=model_id,\n",
    "    temperature=0.5,\n",
    "    max_retries=2,\n",
    ")"
   ]
  },
  {
   "cell_type": "code",
   "execution_count": 24,
   "metadata": {},
   "outputs": [],
   "source": [
    "AI_response = model.invoke(prompt).content"
   ]
  },
  {
   "cell_type": "code",
   "execution_count": 26,
   "metadata": {},
   "outputs": [
    {
     "name": "stdout",
     "output_type": "stream",
     "text": [
      "An agentic email system is a type of email system that utilizes artificial intelligence (AI) and machine learning (ML) to manage and process emails in a more autonomous and proactive way. Here are some key differences between an agentic email system and a traditional email system:\n",
      "\n",
      "1. **Autonomy**: Agentic email systems can perform tasks independently, such as sorting, prioritizing, and responding to emails, without the need for human intervention. Traditional email systems, on the other hand, rely on manual management by the user.\n",
      "2. **Intelligence**: Agentic email systems use AI and ML algorithms to analyze emails, identify patterns, and make decisions. Traditional email systems lack this level of intelligence and rely on simple rules-based filtering.\n",
      "3. **Proactivity**: Agentic email systems can anticipate and take action on emails before the user even sees them. For example, they can automatically schedule meetings, send reminders, or respond to routine inquiries. Traditional email systems are reactive, only responding to user input.\n",
      "4. **Contextual understanding**: Agentic email systems can understand the context of an email, including the tone, intent, and relationships between parties. Traditional email systems lack this level of contextual understanding and may misinterpret or misclassify emails.\n",
      "5. **Personalization**: Agentic email systems can learn a user's preferences and adapt to their behavior over time, providing a more personalized experience. Traditional email systems are one-size-fits-all and do not adapt to individual user needs.\n",
      "6. **Automation**: Agentic email systems can automate repetitive tasks, such as data entry, follow-up emails, and routine responses. Traditional email systems require manual effort for these tasks.\n",
      "7. **Integration**: Agentic email systems can integrate with other applications and services, such as calendars, customer relationship management (CRM) systems, and marketing automation platforms. Traditional email systems are often siloed and lack this level of integration.\n",
      "8. **Security**: Agentic email systems can use advanced AI-powered security features, such as anomaly detection and predictive analytics, to identify and prevent email-based threats. Traditional email systems rely on basic security measures, such as spam filtering and virus scanning.\n",
      "\n",
      "Examples of agentic email systems include:\n",
      "\n",
      "* AI-powered email assistants, such as x.ai or Clara Labs\n",
      "* Automated email management tools, such as Sanebox or Boomerang\n",
      "* Intelligent email clients, such as Spark or Astro\n",
      "\n",
      "Overall, agentic email systems have the potential to revolutionize the way we manage email, making it more efficient, effective, and personalized.\n"
     ]
    }
   ],
   "source": [
    "print(AI_response)"
   ]
  },
  {
   "cell_type": "code",
   "execution_count": null,
   "metadata": {},
   "outputs": [],
   "source": []
  }
 ],
 "metadata": {
  "kernelspec": {
   "display_name": "env_langchain_tutorial",
   "language": "python",
   "name": "python3"
  },
  "language_info": {
   "codemirror_mode": {
    "name": "ipython",
    "version": 3
   },
   "file_extension": ".py",
   "mimetype": "text/x-python",
   "name": "python",
   "nbconvert_exporter": "python",
   "pygments_lexer": "ipython3",
   "version": "3.10.16"
  }
 },
 "nbformat": 4,
 "nbformat_minor": 2
}
